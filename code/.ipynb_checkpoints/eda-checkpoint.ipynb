{
 "cells": [
  {
   "cell_type": "markdown",
   "id": "classified-injection",
   "metadata": {},
   "source": [
    "# Imports"
   ]
  },
  {
   "cell_type": "code",
   "execution_count": 123,
   "id": "caroline-definition",
   "metadata": {},
   "outputs": [
    {
     "name": "stdout",
     "output_type": "stream",
     "text": [
      "CPU times: user 230 µs, sys: 0 ns, total: 230 µs\n",
      "Wall time: 234 µs\n"
     ]
    }
   ],
   "source": [
    "%%time\n",
    "import pytorch_lightning as pl\n",
    "from torch.utils.data import random_split, DataLoader, Dataset\n",
    "\n",
    "import torch as th\n",
    "import torch.nn.functional as F\n",
    "import os\n",
    "from collections import Counter\n",
    "\n",
    "import pandas as pd\n",
    "import numpy as np\n",
    "import matplotlib.pyplot as plt\n",
    "plt.style.use('ggplot')\n",
    "import seaborn as sns\n",
    "import sklearn\n",
    "from sklearn.model_selection import train_test_split\n",
    "\n",
    "import swifter\n",
    "# data module\n",
    "from src.dataset import EnzymeDataset, DataModule\n",
    "\n",
    "# model\n",
    "from src.model import Model\n",
    "\n",
    "# config file\n",
    "from src.config import Config\n",
    "\n",
    "# custom tokenizer \n",
    "from src.tokenizer import EnzymeTokenizer"
   ]
  },
  {
   "cell_type": "markdown",
   "id": "deadly-hypothetical",
   "metadata": {},
   "source": [
    "# EDA part"
   ]
  },
  {
   "cell_type": "code",
   "execution_count": 49,
   "id": "meaning-martin",
   "metadata": {},
   "outputs": [],
   "source": [
    "train_df = pd.read_csv(os.path.join(Config.data_dir, 'TrainV1.csv'))\n",
    "test_df = pd.read_csv(os.path.join(Config.data_dir, 'Test.csv'))\n",
    "ss_df = pd.read_csv(os.path.join(Config.data_dir, 'SampleSubmission.csv'))"
   ]
  },
  {
   "cell_type": "code",
   "execution_count": 5,
   "id": "planned-civilization",
   "metadata": {},
   "outputs": [
    {
     "data": {
      "text/html": [
       "<div>\n",
       "<style scoped>\n",
       "    .dataframe tbody tr th:only-of-type {\n",
       "        vertical-align: middle;\n",
       "    }\n",
       "\n",
       "    .dataframe tbody tr th {\n",
       "        vertical-align: top;\n",
       "    }\n",
       "\n",
       "    .dataframe thead th {\n",
       "        text-align: right;\n",
       "    }\n",
       "</style>\n",
       "<table border=\"1\" class=\"dataframe\">\n",
       "  <thead>\n",
       "    <tr style=\"text-align: right;\">\n",
       "      <th></th>\n",
       "      <th>SEQUENCE_ID</th>\n",
       "      <th>SEQUENCE</th>\n",
       "      <th>CREATURE</th>\n",
       "      <th>LABEL</th>\n",
       "      <th>LENGTH</th>\n",
       "      <th>TARGET</th>\n",
       "      <th>FOLD</th>\n",
       "    </tr>\n",
       "  </thead>\n",
       "  <tbody>\n",
       "    <tr>\n",
       "      <th>0</th>\n",
       "      <td>2PCOQ7T3</td>\n",
       "      <td>MSMNYFNSLPLRLQLEQLGQCRFMDKSEFSAGVDKLKGKKVVILGC...</td>\n",
       "      <td>creature8</td>\n",
       "      <td>class10</td>\n",
       "      <td>492</td>\n",
       "      <td>10</td>\n",
       "      <td>3</td>\n",
       "    </tr>\n",
       "    <tr>\n",
       "      <th>1</th>\n",
       "      <td>K4N3TXMV</td>\n",
       "      <td>PQITLWQRPLVTIKIGGQVKEALLDTGADDTVLEDMNLPGKWKPKM...</td>\n",
       "      <td>creature4</td>\n",
       "      <td>class19</td>\n",
       "      <td>403</td>\n",
       "      <td>19</td>\n",
       "      <td>1</td>\n",
       "    </tr>\n",
       "    <tr>\n",
       "      <th>2</th>\n",
       "      <td>KU45P8R0</td>\n",
       "      <td>PQITLWQRPLVTIKIGGQQXEALLDTGADDTVLEEMNLPGRWKPKM...</td>\n",
       "      <td>creature4</td>\n",
       "      <td>class19</td>\n",
       "      <td>499</td>\n",
       "      <td>19</td>\n",
       "      <td>1</td>\n",
       "    </tr>\n",
       "    <tr>\n",
       "      <th>3</th>\n",
       "      <td>F1ZBCIR6</td>\n",
       "      <td>MSLRTFRRDTITRPIFKWASRATPPISGTERDAIEAGTVWWDGELF...</td>\n",
       "      <td>creature5</td>\n",
       "      <td>class18</td>\n",
       "      <td>761</td>\n",
       "      <td>18</td>\n",
       "      <td>3</td>\n",
       "    </tr>\n",
       "    <tr>\n",
       "      <th>4</th>\n",
       "      <td>4LW4Z00M</td>\n",
       "      <td>MAKKKIAISCGDIQGVGLELILKSHKEVSTLCEPLYLIDGELLERA...</td>\n",
       "      <td>creature3</td>\n",
       "      <td>class10</td>\n",
       "      <td>307</td>\n",
       "      <td>10</td>\n",
       "      <td>4</td>\n",
       "    </tr>\n",
       "  </tbody>\n",
       "</table>\n",
       "</div>"
      ],
      "text/plain": [
       "  SEQUENCE_ID                                           SEQUENCE   CREATURE  \\\n",
       "0    2PCOQ7T3  MSMNYFNSLPLRLQLEQLGQCRFMDKSEFSAGVDKLKGKKVVILGC...  creature8   \n",
       "1    K4N3TXMV  PQITLWQRPLVTIKIGGQVKEALLDTGADDTVLEDMNLPGKWKPKM...  creature4   \n",
       "2    KU45P8R0  PQITLWQRPLVTIKIGGQQXEALLDTGADDTVLEEMNLPGRWKPKM...  creature4   \n",
       "3    F1ZBCIR6  MSLRTFRRDTITRPIFKWASRATPPISGTERDAIEAGTVWWDGELF...  creature5   \n",
       "4    4LW4Z00M  MAKKKIAISCGDIQGVGLELILKSHKEVSTLCEPLYLIDGELLERA...  creature3   \n",
       "\n",
       "     LABEL  LENGTH  TARGET  FOLD  \n",
       "0  class10     492      10     3  \n",
       "1  class19     403      19     1  \n",
       "2  class19     499      19     1  \n",
       "3  class18     761      18     3  \n",
       "4  class10     307      10     4  "
      ]
     },
     "execution_count": 5,
     "metadata": {},
     "output_type": "execute_result"
    }
   ],
   "source": [
    "train_df.head()"
   ]
  },
  {
   "cell_type": "code",
   "execution_count": 6,
   "id": "occasional-livestock",
   "metadata": {},
   "outputs": [
    {
     "data": {
      "text/html": [
       "<div>\n",
       "<style scoped>\n",
       "    .dataframe tbody tr th:only-of-type {\n",
       "        vertical-align: middle;\n",
       "    }\n",
       "\n",
       "    .dataframe tbody tr th {\n",
       "        vertical-align: top;\n",
       "    }\n",
       "\n",
       "    .dataframe thead th {\n",
       "        text-align: right;\n",
       "    }\n",
       "</style>\n",
       "<table border=\"1\" class=\"dataframe\">\n",
       "  <thead>\n",
       "    <tr style=\"text-align: right;\">\n",
       "      <th></th>\n",
       "      <th>SEQUENCE_ID</th>\n",
       "      <th>LABEL</th>\n",
       "    </tr>\n",
       "  </thead>\n",
       "  <tbody>\n",
       "    <tr>\n",
       "      <th>0</th>\n",
       "      <td>000LRRAI</td>\n",
       "      <td>NaN</td>\n",
       "    </tr>\n",
       "    <tr>\n",
       "      <th>1</th>\n",
       "      <td>000O8L4W</td>\n",
       "      <td>NaN</td>\n",
       "    </tr>\n",
       "    <tr>\n",
       "      <th>2</th>\n",
       "      <td>000UKB5J</td>\n",
       "      <td>NaN</td>\n",
       "    </tr>\n",
       "    <tr>\n",
       "      <th>3</th>\n",
       "      <td>00111SLH</td>\n",
       "      <td>NaN</td>\n",
       "    </tr>\n",
       "    <tr>\n",
       "      <th>4</th>\n",
       "      <td>001ELB0A</td>\n",
       "      <td>NaN</td>\n",
       "    </tr>\n",
       "  </tbody>\n",
       "</table>\n",
       "</div>"
      ],
      "text/plain": [
       "  SEQUENCE_ID  LABEL\n",
       "0    000LRRAI    NaN\n",
       "1    000O8L4W    NaN\n",
       "2    000UKB5J    NaN\n",
       "3    00111SLH    NaN\n",
       "4    001ELB0A    NaN"
      ]
     },
     "execution_count": 6,
     "metadata": {},
     "output_type": "execute_result"
    }
   ],
   "source": [
    "ss_df.head()"
   ]
  },
  {
   "cell_type": "code",
   "execution_count": 7,
   "id": "monetary-narrow",
   "metadata": {},
   "outputs": [
    {
     "data": {
      "text/html": [
       "<div>\n",
       "<style scoped>\n",
       "    .dataframe tbody tr th:only-of-type {\n",
       "        vertical-align: middle;\n",
       "    }\n",
       "\n",
       "    .dataframe tbody tr th {\n",
       "        vertical-align: top;\n",
       "    }\n",
       "\n",
       "    .dataframe thead th {\n",
       "        text-align: right;\n",
       "    }\n",
       "</style>\n",
       "<table border=\"1\" class=\"dataframe\">\n",
       "  <thead>\n",
       "    <tr style=\"text-align: right;\">\n",
       "      <th></th>\n",
       "      <th>count</th>\n",
       "      <th>mean</th>\n",
       "      <th>std</th>\n",
       "      <th>min</th>\n",
       "      <th>25%</th>\n",
       "      <th>50%</th>\n",
       "      <th>75%</th>\n",
       "      <th>max</th>\n",
       "    </tr>\n",
       "  </thead>\n",
       "  <tbody>\n",
       "    <tr>\n",
       "      <th>LENGTH</th>\n",
       "      <td>816700.0</td>\n",
       "      <td>402.801178</td>\n",
       "      <td>208.020681</td>\n",
       "      <td>16.0</td>\n",
       "      <td>262.0</td>\n",
       "      <td>379.0</td>\n",
       "      <td>476.0</td>\n",
       "      <td>1234.0</td>\n",
       "    </tr>\n",
       "    <tr>\n",
       "      <th>TARGET</th>\n",
       "      <td>816700.0</td>\n",
       "      <td>11.381240</td>\n",
       "      <td>6.368273</td>\n",
       "      <td>0.0</td>\n",
       "      <td>6.0</td>\n",
       "      <td>11.0</td>\n",
       "      <td>19.0</td>\n",
       "      <td>19.0</td>\n",
       "    </tr>\n",
       "    <tr>\n",
       "      <th>FOLD</th>\n",
       "      <td>816700.0</td>\n",
       "      <td>2.000000</td>\n",
       "      <td>1.414214</td>\n",
       "      <td>0.0</td>\n",
       "      <td>1.0</td>\n",
       "      <td>2.0</td>\n",
       "      <td>3.0</td>\n",
       "      <td>4.0</td>\n",
       "    </tr>\n",
       "  </tbody>\n",
       "</table>\n",
       "</div>"
      ],
      "text/plain": [
       "           count        mean         std   min    25%    50%    75%     max\n",
       "LENGTH  816700.0  402.801178  208.020681  16.0  262.0  379.0  476.0  1234.0\n",
       "TARGET  816700.0   11.381240    6.368273   0.0    6.0   11.0   19.0    19.0\n",
       "FOLD    816700.0    2.000000    1.414214   0.0    1.0    2.0    3.0     4.0"
      ]
     },
     "execution_count": 7,
     "metadata": {},
     "output_type": "execute_result"
    }
   ],
   "source": [
    "train_df.describe().transpose()"
   ]
  },
  {
   "cell_type": "code",
   "execution_count": 28,
   "id": "divine-european",
   "metadata": {},
   "outputs": [],
   "source": [
    "classes = train_df.TARGET.unique()"
   ]
  },
  {
   "cell_type": "code",
   "execution_count": 26,
   "id": "green-paragraph",
   "metadata": {},
   "outputs": [
    {
     "data": {
      "text/plain": [
       "20"
      ]
     },
     "execution_count": 26,
     "metadata": {},
     "output_type": "execute_result"
    }
   ],
   "source": [
    "n_classes = train_df.LABEL.nunique()\n",
    "n_classes"
   ]
  },
  {
   "cell_type": "markdown",
   "id": "handy-nutrition",
   "metadata": {},
   "source": [
    "# Class distribution"
   ]
  },
  {
   "cell_type": "code",
   "execution_count": 35,
   "id": "backed-dollar",
   "metadata": {},
   "outputs": [],
   "source": [
    "class_pct = dict(train_df.TARGET.value_counts() / len(train_df) * 100)"
   ]
  },
  {
   "cell_type": "code",
   "execution_count": 45,
   "id": "dramatic-block",
   "metadata": {},
   "outputs": [
    {
     "data": {
      "image/png": "[encoded data removed]",
      "text/plain": [
       "<Figure size 1296x432 with 1 Axes>"
      ]
     },
     "metadata": {
      "needs_background": "light"
     },
     "output_type": "display_data"
    }
   ],
   "source": [
    "plt.figure(figsize=(18, 6))\n",
    "plt.bar(x=class_pct.keys(), height=class_pct.values(), tick_label=list(class_pct.keys()))\n",
    "plt.title('Class Percentage distrib (in %)')\n",
    "plt.show()\n"
   ]
  },
  {
   "cell_type": "code",
   "execution_count": 108,
   "id": "prime-revelation",
   "metadata": {},
   "outputs": [],
   "source": [
    "\n",
    "train_amino_acid_counts = {}\n",
    "test_amino_acid_counts = {}\n",
    "\n",
    "def get_counts(seq, subset='train'):\n",
    "    c = dict(Counter(seq))\n",
    "    for (k, v) in c.items():\n",
    "        if subset == 'train':\n",
    "            try:\n",
    "                train_amino_acid_counts[k]+= c[k]\n",
    "            except:\n",
    "                if len(k) == 1: # avoid storing sequences\n",
    "                    train_amino_acid_counts.update({\n",
    "                        k: v\n",
    "                    })\n",
    "        else:\n",
    "            try:\n",
    "                test_amino_acid_counts[k]+= c[k]\n",
    "            except:\n",
    "                if len(k) == 1: # avoid storing sequences\n",
    "                    test_amino_acid_counts.update({\n",
    "                        k: v\n",
    "                    })"
   ]
  },
  {
   "cell_type": "code",
   "execution_count": 109,
   "id": "incorrect-honolulu",
   "metadata": {
    "scrolled": true
   },
   "outputs": [
    {
     "data": {
      "application/vnd.jupyter.widget-view+json": {
       "model_id": "ef9fd80fbccc4f2da73067f643a6ea4c",
       "version_major": 2,
       "version_minor": 0
      },
      "text/plain": [
       "Computing amino acid counts:   0%|          | 0/816700 [00:00<?, ?it/s]"
      ]
     },
     "metadata": {},
     "output_type": "display_data"
    },
    {
     "data": {
      "application/vnd.jupyter.widget-view+json": {
       "model_id": "587069bd854044809a65a8796210c3c0",
       "version_major": 2,
       "version_minor": 0
      },
      "text/plain": [
       "Computing amino acid counts:   0%|          | 0/253146 [00:00<?, ?it/s]"
      ]
     },
     "metadata": {},
     "output_type": "display_data"
    }
   ],
   "source": [
    "_ = train_df['SEQUENCE'].swifter.progress_bar(enable=True, desc='Computing amino acid counts').apply(lambda seq: get_counts(seq))\n",
    "_ = test_df['SEQUENCE'].swifter.progress_bar(enable=True, desc='Computing amino acid counts').apply(lambda seq: get_counts(seq, \n",
    "                                                                                                                           subset='test'))"
   ]
  },
  {
   "cell_type": "markdown",
   "id": "blond-search",
   "metadata": {},
   "source": [
    "# Relevant amino acid for this task"
   ]
  },
  {
   "cell_type": "code",
   "execution_count": 127,
   "id": "lined-lighter",
   "metadata": {},
   "outputs": [
    {
     "data": {
      "image/png": "[encoded data removed]",
      "text/plain": [
       "<Figure size 1440x360 with 2 Axes>"
      ]
     },
     "metadata": {},
     "output_type": "display_data"
    }
   ],
   "source": [
    "f, (ax1, ax2) = plt.subplots(1, 2, figsize=(20, 5), sharey=True)\n",
    "f.suptitle('Amino acid frequences')\n",
    "ax1.bar(\n",
    "    x=list(train_amino_acid_counts.keys()), \n",
    "    height=list(train_amino_acid_counts.values()), \n",
    "    tick_label=list(train_amino_acid_counts.keys()), \n",
    "    label=\"Train\")\n",
    "ax1.legend()\n",
    "\n",
    "ax2.bar(x=list(\n",
    "    test_amino_acid_counts.keys()), \n",
    "        height=list(test_amino_acid_counts.values()), \n",
    "        tick_label=list(test_amino_acid_counts.keys()), \n",
    "        label='Test', \n",
    "        color='green')\n",
    "ax2.legend()\n",
    "\n",
    "plt.show()"
   ]
  },
  {
   "cell_type": "markdown",
   "id": "representative-guess",
   "metadata": {},
   "source": [
    "So The less representative amino-acid are (X, B, Z & U)\n",
    "\n",
    "Maybe we should ignore them during tokenization"
   ]
  },
  {
   "cell_type": "code",
   "execution_count": null,
   "id": "advised-powder",
   "metadata": {},
   "outputs": [],
   "source": []
  },
  {
   "cell_type": "markdown",
   "id": "tight-evans",
   "metadata": {},
   "source": [
    "# See an example of training sample"
   ]
  },
  {
   "cell_type": "code",
   "execution_count": 130,
   "id": "dutch-holiday",
   "metadata": {},
   "outputs": [
    {
     "name": "stdout",
     "output_type": "stream",
     "text": [
      "[INFO] Training on 653360\n",
      "[INFO] Validating on 163340\n"
     ]
    }
   ],
   "source": [
    "enzyme_dm = DataModule(config=Config, \n",
    "                 train_df=train_df,\n",
    "                 validation_split=.2,\n",
    "                 train_frac = 1)\n",
    "enzyme_dm.setup()"
   ]
  },
  {
   "cell_type": "markdown",
   "id": "connected-bullet",
   "metadata": {},
   "source": [
    "# Try getting items using dataset"
   ]
  },
  {
   "cell_type": "code",
   "execution_count": 131,
   "id": "associate-flavor",
   "metadata": {
    "scrolled": true
   },
   "outputs": [
    {
     "data": {
      "text/plain": [
       "{'input_ids': tensor([11., 16., 17., 17., 17., 10., 17., 15., 15.,  4., 14., 15.,  0.,  9.,\n",
       "          0., 14.,  7.,  5.,  8.,  3., 17., 10.,  4.,  6., 17.,  0.,  5., 13.,\n",
       "         12., 16.,  9., 15.,  8., 22., 19., 17.,  6., 16., 14.,  7.,  3.,  8.,\n",
       "         15., 19., 13., 11., 15.,  4.,  8., 14., 10., 16., 13., 17., 10.,  8.,\n",
       "         16.,  6., 17.,  9.,  3.,  7., 13., 14., 22.,  4.,  4., 12.,  4.,  0.,\n",
       "          8., 13., 19., 22.,  3., 17., 16.,  6., 13., 22.,  6.,  3., 13.,  3.,\n",
       "         19.,  0.,  8., 12., 19., 14., 14.,  6., 10., 19.,  9., 10., 15., 14.,\n",
       "         13., 20.,  8.,  4.,  0., 15.,  0.,  3., 19.,  4., 17., 10., 16.,  3.,\n",
       "         15., 16., 16.,  0., 22., 17., 15.,  4., 15., 10., 17.,  3.,  4.,  6.,\n",
       "         10.,  3.,  0., 10., 15.,  5., 17.,  6., 10., 10., 17., 13.,  9., 15.,\n",
       "          0.,  9.,  0.,  6.,  9., 15., 19., 17., 14., 10.,  7., 22.,  0., 15.,\n",
       "         12.,  6.,  8., 19., 17., 13.,  4., 11.,  4.,  5.,  8.,  0.,  8., 15.,\n",
       "          4., 12., 11.,  6., 15.,  4., 15.,  8., 15., 16.,  4., 19., 10., 15.,\n",
       "          7., 14.,  7., 13.,  6.,  4., 16.,  5.,  6.,  0., 15., 10., 13.,  4.,\n",
       "         12.,  8., 17., 13.,  4.,  5., 19., 15.,  3.,  4., 19.,  0.,  0.,  6.,\n",
       "         15.,  0.,  8.,  8., 13.,  0., 12.,  8., 12.,  7., 13.,  4., 16.,  4.,\n",
       "         13., 11.,  8.,  8.,  6., 15., 12.,  5., 10., 19.,  9., 19., 12.,  0.,\n",
       "         12.,  8.,  6., 12., 16.,  0., 19., 17., 16., 16.,  8.,  4.,  4.,  4.,\n",
       "         19.,  4.,  9., 10., 19., 20.,  0., 17., 15., 20.,  6.,  0.,  3., 17.,\n",
       "         19., 11.,  3., 10., 16., 17.,  6., 15., 22.,  8.,  7.,  4., 17., 15.,\n",
       "          4., 20.,  8., 10., 15., 12., 16., 13., 19., 13.,  8.,  6., 17., 19.,\n",
       "         13.,  8., 22., 14.,  0., 10.,  4.,  9., 19., 12.,  6.,  8.,  0.,  4.,\n",
       "          3., 10., 17., 20.,  4.,  0.,  5., 15.,  3., 17., 10., 10.,  4., 14.,\n",
       "          0.,  4., 14.,  6., 19.,  3., 22.,  5., 17.,  8.,  7.,  0.,  6., 19.,\n",
       "         10., 10., 15., 22., 19., 13., 11., 17.,  0.,  9., 15., 10., 17.,  6.,\n",
       "          8., 19., 16., 15.,  6.,  6., 16.,  8., 11.,  0.,  9., 20.,  2., 10.,\n",
       "         16.,  7.,  7.,  9.,  4., 12.,  5., 10.,  5.,  4.,  7.,  5., 15.,  4.,\n",
       "          8.,  2.,  4.,  8.,  2.,  0.,  0., 22.,  3., 19., 16., 10., 16., 10.,\n",
       "          6.,  3.,  6., 10., 15., 13.,  6., 16.,  8., 14.,  3.,  0., 12.,  3.,\n",
       "          4.,  0., 14.,  5., 16.,  4., 10.,  7., 17., 10.,  6.,  4., 10., 17.,\n",
       "          9.,  8.,  0., 20.,  4., 22.,  3., 19., 14., 19., 11.,  8.,  4.,  6.,\n",
       "         13.,  6.,  7., 19., 13., 11.,  7., 11.,  8., 14., 15., 12., 11., 17.,\n",
       "          4.,  4., 10.,  4.,  7.,  2.,  7.,  4.,  0., 13.,  5., 22., 17., 10.,\n",
       "          6., 13., 10., 17., 17.,  3.,  8.,  0., 13.,  6., 22.,  3.,  7.,  5.,\n",
       "         17., 16.,  6.,  8.,  6.,  0.,  0., 11.,  8.,  6., 20.,  5.,  6.,  2.,\n",
       "          0., 11., 10.,  2., 22., 19., 17., 13.,  9.,  4.,  7., 10.,  6., 10.,\n",
       "         13., 12.,  9.,  4.,  3., 19.,  9., 14.]),\n",
       " 'trg': tensor(1)}"
      ]
     },
     "execution_count": 131,
     "metadata": {},
     "output_type": "execute_result"
    }
   ],
   "source": [
    "enzyme_dm.train_ds[250]"
   ]
  },
  {
   "cell_type": "code",
   "execution_count": null,
   "id": "indonesian-shakespeare",
   "metadata": {},
   "outputs": [],
   "source": []
  }
 ],
 "metadata": {
  "kernelspec": {
   "display_name": "Python 3",
   "language": "python",
   "name": "python3"
  },
  "language_info": {
   "codemirror_mode": {
    "name": "ipython",
    "version": 3
   },
   "file_extension": ".py",
   "mimetype": "text/x-python",
   "name": "python",
   "nbconvert_exporter": "python",
   "pygments_lexer": "ipython3",
   "version": "3.8.6"
  }
 },
 "nbformat": 4,
 "nbformat_minor": 5
}
