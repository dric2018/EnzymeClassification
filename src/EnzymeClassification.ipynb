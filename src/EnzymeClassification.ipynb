{
 "metadata": {
  "language_info": {
   "codemirror_mode": {
    "name": "ipython",
    "version": 3
   },
   "file_extension": ".py",
   "mimetype": "text/x-python",
   "name": "python",
   "nbconvert_exporter": "python",
   "pygments_lexer": "ipython3",
   "version": "3.6.8-final"
  },
  "orig_nbformat": 2,
  "kernelspec": {
   "name": "pytorch-kernel",
   "display_name": "pytorch-kernel"
  }
 },
 "nbformat": 4,
 "nbformat_minor": 2,
 "cells": [
  {
   "cell_type": "code",
   "execution_count": 1,
   "metadata": {},
   "outputs": [],
   "source": [
    "import torch\n",
    "import pytorch_lightning as pl\n",
    "from pytorch_lightning import Trainer, loggers, callbacks, seed_everything\n",
    "import torch.nn as nn\n",
    "from torch.utils.data import Dataset, DataLoader\n",
    "\n",
    "import numpy as np\n",
    "import pandas as pd \n",
    "import transformers\n",
    "import swifter\n",
    "\n",
    "from transformers import AutoTokenizer, AutoModel\n",
    "\n",
    "import pandas as pd\n",
    "import numpy as np\n",
    "import matplotlib.pyplot as plt\n",
    "plt.style.use('ggplot')\n",
    "import seaborn as sns\n",
    "\n",
    "from sklearn.model_selection import KFold, StratifiedKFold, train_test_split\n",
    "\n",
    "import os \n",
    "import random\n",
    "\n",
    "import utils, models, datasets"
   ]
  },
  {
   "source": [
    "## Config & constants"
   ],
   "cell_type": "markdown",
   "metadata": {}
  },
  {
   "cell_type": "code",
   "execution_count": 2,
   "metadata": {},
   "outputs": [],
   "source": [
    "data_dir = '../data'\n",
    "models_dir = '../models'\n"
   ]
  },
  {
   "cell_type": "code",
   "execution_count": 3,
   "metadata": {},
   "outputs": [],
   "source": [
    "train_data_path = os.path.join(data_dir, 'TrainV1.csv')\n",
    "test_data_path = os.path.join(data_dir, 'Test.csv')\n",
    "ss_path = os.path.join(data_dir, 'SampleSubmission.csv')\n"
   ]
  },
  {
   "cell_type": "code",
   "execution_count": 4,
   "metadata": {},
   "outputs": [],
   "source": [
    "#! python utils.py --data_path ../data/Train.csv"
   ]
  },
  {
   "source": [
    "## EDA"
   ],
   "cell_type": "markdown",
   "metadata": {}
  },
  {
   "cell_type": "code",
   "execution_count": 5,
   "metadata": {},
   "outputs": [
    {
     "output_type": "stream",
     "name": "stdout",
     "text": [
      "CPU times: user 4.64 s, sys: 334 ms, total: 4.98 s\nWall time: 5.03 s\n"
     ]
    }
   ],
   "source": [
    "%%time\n",
    "train = pd.read_csv(train_data_path)\n",
    "test = pd.read_csv(test_data_path)\n",
    "ss = pd.read_csv(ss_path)"
   ]
  },
  {
   "cell_type": "code",
   "execution_count": 6,
   "metadata": {},
   "outputs": [
    {
     "output_type": "execute_result",
     "data": {
      "text/plain": [
       "  SEQUENCE_ID                                           SEQUENCE   CREATURE\n",
       "0    000LRRAI  MKLPVKRYAVAAIVALGVSMAPGELRTSPEAQIKIATREECRATPY...  creature7\n",
       "1    000O8L4W  MKISVFGSGYVGLVQAAVLAEVGHDVVCMDIDKVKVEQLSQGQVHI...  creature6\n",
       "2    000UKB5J  MTMKVGFIGLGIMGKPMSKNLLKAGYSLVVADRNPEAIADVIAAGA...  creature7\n",
       "3    00111SLH  MTVSLSRLERQLGYTFKDQELMILALTHRSFAGRNNERLEFLGDAI...  creature6\n",
       "4    001ELB0A  MSKIRVLSVDDSALMRQIMTEIINSHSDMEMVATAPDPLVARDLIK...  creature7"
      ],
      "text/html": "<div>\n<style scoped>\n    .dataframe tbody tr th:only-of-type {\n        vertical-align: middle;\n    }\n\n    .dataframe tbody tr th {\n        vertical-align: top;\n    }\n\n    .dataframe thead th {\n        text-align: right;\n    }\n</style>\n<table border=\"1\" class=\"dataframe\">\n  <thead>\n    <tr style=\"text-align: right;\">\n      <th></th>\n      <th>SEQUENCE_ID</th>\n      <th>SEQUENCE</th>\n      <th>CREATURE</th>\n    </tr>\n  </thead>\n  <tbody>\n    <tr>\n      <th>0</th>\n      <td>000LRRAI</td>\n      <td>MKLPVKRYAVAAIVALGVSMAPGELRTSPEAQIKIATREECRATPY...</td>\n      <td>creature7</td>\n    </tr>\n    <tr>\n      <th>1</th>\n      <td>000O8L4W</td>\n      <td>MKISVFGSGYVGLVQAAVLAEVGHDVVCMDIDKVKVEQLSQGQVHI...</td>\n      <td>creature6</td>\n    </tr>\n    <tr>\n      <th>2</th>\n      <td>000UKB5J</td>\n      <td>MTMKVGFIGLGIMGKPMSKNLLKAGYSLVVADRNPEAIADVIAAGA...</td>\n      <td>creature7</td>\n    </tr>\n    <tr>\n      <th>3</th>\n      <td>00111SLH</td>\n      <td>MTVSLSRLERQLGYTFKDQELMILALTHRSFAGRNNERLEFLGDAI...</td>\n      <td>creature6</td>\n    </tr>\n    <tr>\n      <th>4</th>\n      <td>001ELB0A</td>\n      <td>MSKIRVLSVDDSALMRQIMTEIINSHSDMEMVATAPDPLVARDLIK...</td>\n      <td>creature7</td>\n    </tr>\n  </tbody>\n</table>\n</div>"
     },
     "metadata": {},
     "execution_count": 6
    }
   ],
   "source": [
    "test.head()"
   ]
  },
  {
   "cell_type": "code",
   "execution_count": 7,
   "metadata": {},
   "outputs": [
    {
     "output_type": "execute_result",
     "data": {
      "text/plain": [
       "  SEQUENCE_ID  LABEL\n",
       "0    000LRRAI    NaN\n",
       "1    000O8L4W    NaN\n",
       "2    000UKB5J    NaN\n",
       "3    00111SLH    NaN\n",
       "4    001ELB0A    NaN"
      ],
      "text/html": "<div>\n<style scoped>\n    .dataframe tbody tr th:only-of-type {\n        vertical-align: middle;\n    }\n\n    .dataframe tbody tr th {\n        vertical-align: top;\n    }\n\n    .dataframe thead th {\n        text-align: right;\n    }\n</style>\n<table border=\"1\" class=\"dataframe\">\n  <thead>\n    <tr style=\"text-align: right;\">\n      <th></th>\n      <th>SEQUENCE_ID</th>\n      <th>LABEL</th>\n    </tr>\n  </thead>\n  <tbody>\n    <tr>\n      <th>0</th>\n      <td>000LRRAI</td>\n      <td>NaN</td>\n    </tr>\n    <tr>\n      <th>1</th>\n      <td>000O8L4W</td>\n      <td>NaN</td>\n    </tr>\n    <tr>\n      <th>2</th>\n      <td>000UKB5J</td>\n      <td>NaN</td>\n    </tr>\n    <tr>\n      <th>3</th>\n      <td>00111SLH</td>\n      <td>NaN</td>\n    </tr>\n    <tr>\n      <th>4</th>\n      <td>001ELB0A</td>\n      <td>NaN</td>\n    </tr>\n  </tbody>\n</table>\n</div>"
     },
     "metadata": {},
     "execution_count": 7
    }
   ],
   "source": [
    "ss.head()"
   ]
  },
  {
   "cell_type": "code",
   "execution_count": 8,
   "metadata": {},
   "outputs": [
    {
     "output_type": "execute_result",
     "data": {
      "text/plain": [
       "  SEQUENCE_ID                                           SEQUENCE   CREATURE  \\\n",
       "0    00011UBJ  MPWQELSITVPHEYVEPISYLFGRYGKGVSTELAGNGQVLLRTYLT...  creature9   \n",
       "1    0001HZ3P  MGKLVIGSRGSELALWQANHIKERLKKECLIESEIQIVKTKGDKIL...  creature3   \n",
       "2    0003NJDO  MFIVAVLMLAFLIFVHELGHFTIARICGVKVEVFSIGFGKKLCFFK...  creature3   \n",
       "3    0003XVE3  MKNTSLSTTLTMNDTIAAIATPLGKGAISIIKISGHNALNILKQLT...  creature3   \n",
       "4    00049BS0  MGNRLTKIYTKTGDSGLTGLADGSRTEKDSLRIFVIGDVDELNSLL...  creature8   \n",
       "\n",
       "     LABEL  TARGET  LENGTH  \n",
       "0  class11       3     296  \n",
       "1  class13       5     306  \n",
       "2  class16       8     348  \n",
       "3  class12       4     461  \n",
       "4  class13       5     184  "
      ],
      "text/html": "<div>\n<style scoped>\n    .dataframe tbody tr th:only-of-type {\n        vertical-align: middle;\n    }\n\n    .dataframe tbody tr th {\n        vertical-align: top;\n    }\n\n    .dataframe thead th {\n        text-align: right;\n    }\n</style>\n<table border=\"1\" class=\"dataframe\">\n  <thead>\n    <tr style=\"text-align: right;\">\n      <th></th>\n      <th>SEQUENCE_ID</th>\n      <th>SEQUENCE</th>\n      <th>CREATURE</th>\n      <th>LABEL</th>\n      <th>TARGET</th>\n      <th>LENGTH</th>\n    </tr>\n  </thead>\n  <tbody>\n    <tr>\n      <th>0</th>\n      <td>00011UBJ</td>\n      <td>MPWQELSITVPHEYVEPISYLFGRYGKGVSTELAGNGQVLLRTYLT...</td>\n      <td>creature9</td>\n      <td>class11</td>\n      <td>3</td>\n      <td>296</td>\n    </tr>\n    <tr>\n      <th>1</th>\n      <td>0001HZ3P</td>\n      <td>MGKLVIGSRGSELALWQANHIKERLKKECLIESEIQIVKTKGDKIL...</td>\n      <td>creature3</td>\n      <td>class13</td>\n      <td>5</td>\n      <td>306</td>\n    </tr>\n    <tr>\n      <th>2</th>\n      <td>0003NJDO</td>\n      <td>MFIVAVLMLAFLIFVHELGHFTIARICGVKVEVFSIGFGKKLCFFK...</td>\n      <td>creature3</td>\n      <td>class16</td>\n      <td>8</td>\n      <td>348</td>\n    </tr>\n    <tr>\n      <th>3</th>\n      <td>0003XVE3</td>\n      <td>MKNTSLSTTLTMNDTIAAIATPLGKGAISIIKISGHNALNILKQLT...</td>\n      <td>creature3</td>\n      <td>class12</td>\n      <td>4</td>\n      <td>461</td>\n    </tr>\n    <tr>\n      <th>4</th>\n      <td>00049BS0</td>\n      <td>MGNRLTKIYTKTGDSGLTGLADGSRTEKDSLRIFVIGDVDELNSLL...</td>\n      <td>creature8</td>\n      <td>class13</td>\n      <td>5</td>\n      <td>184</td>\n    </tr>\n  </tbody>\n</table>\n</div>"
     },
     "metadata": {},
     "execution_count": 8
    }
   ],
   "source": [
    "train.head()"
   ]
  },
  {
   "cell_type": "code",
   "execution_count": 9,
   "metadata": {},
   "outputs": [
    {
     "output_type": "execute_result",
     "data": {
      "text/plain": [
       "False"
      ]
     },
     "metadata": {},
     "execution_count": 9
    }
   ],
   "source": [
    "train.SEQUENCE.nunique() == len(train)"
   ]
  },
  {
   "cell_type": "code",
   "execution_count": 10,
   "metadata": {},
   "outputs": [
    {
     "output_type": "execute_result",
     "data": {
      "text/plain": [
       "(8, 20)"
      ]
     },
     "metadata": {},
     "execution_count": 10
    }
   ],
   "source": [
    "train.CREATURE.nunique(), train.LABEL.nunique()"
   ]
  },
  {
   "cell_type": "code",
   "execution_count": 11,
   "metadata": {},
   "outputs": [
    {
     "output_type": "execute_result",
     "data": {
      "text/plain": [
       "              count  unique  \\\n",
       "SEQUENCE_ID  858777  858777   \n",
       "SEQUENCE     858777  816700   \n",
       "CREATURE     858777       8   \n",
       "LABEL        858777      20   \n",
       "TARGET       858777     NaN   \n",
       "LENGTH       858777     NaN   \n",
       "\n",
       "                                                           top    freq  \\\n",
       "SEQUENCE_ID                                           GLXL3B29       1   \n",
       "SEQUENCE     FFRENLAFPEGEAREFPSEQTRAIGPTRGEPQVWGRSSNSLSEAGG...     201   \n",
       "CREATURE                                             creature8  140738   \n",
       "LABEL                                                  class19  256273   \n",
       "TARGET                                                     NaN     NaN   \n",
       "LENGTH                                                     NaN     NaN   \n",
       "\n",
       "               mean      std  min  25%  50%  75%   max  \n",
       "SEQUENCE_ID     NaN      NaN  NaN  NaN  NaN  NaN   NaN  \n",
       "SEQUENCE        NaN      NaN  NaN  NaN  NaN  NaN   NaN  \n",
       "CREATURE        NaN      NaN  NaN  NaN  NaN  NaN   NaN  \n",
       "LABEL           NaN      NaN  NaN  NaN  NaN  NaN   NaN  \n",
       "TARGET       10.193  5.13289    0    6   11   14    19  \n",
       "LENGTH       407.55  211.881   16  263  381  481  1234  "
      ],
      "text/html": "<div>\n<style scoped>\n    .dataframe tbody tr th:only-of-type {\n        vertical-align: middle;\n    }\n\n    .dataframe tbody tr th {\n        vertical-align: top;\n    }\n\n    .dataframe thead th {\n        text-align: right;\n    }\n</style>\n<table border=\"1\" class=\"dataframe\">\n  <thead>\n    <tr style=\"text-align: right;\">\n      <th></th>\n      <th>count</th>\n      <th>unique</th>\n      <th>top</th>\n      <th>freq</th>\n      <th>mean</th>\n      <th>std</th>\n      <th>min</th>\n      <th>25%</th>\n      <th>50%</th>\n      <th>75%</th>\n      <th>max</th>\n    </tr>\n  </thead>\n  <tbody>\n    <tr>\n      <th>SEQUENCE_ID</th>\n      <td>858777</td>\n      <td>858777</td>\n      <td>GLXL3B29</td>\n      <td>1</td>\n      <td>NaN</td>\n      <td>NaN</td>\n      <td>NaN</td>\n      <td>NaN</td>\n      <td>NaN</td>\n      <td>NaN</td>\n      <td>NaN</td>\n    </tr>\n    <tr>\n      <th>SEQUENCE</th>\n      <td>858777</td>\n      <td>816700</td>\n      <td>FFRENLAFPEGEAREFPSEQTRAIGPTRGEPQVWGRSSNSLSEAGG...</td>\n      <td>201</td>\n      <td>NaN</td>\n      <td>NaN</td>\n      <td>NaN</td>\n      <td>NaN</td>\n      <td>NaN</td>\n      <td>NaN</td>\n      <td>NaN</td>\n    </tr>\n    <tr>\n      <th>CREATURE</th>\n      <td>858777</td>\n      <td>8</td>\n      <td>creature8</td>\n      <td>140738</td>\n      <td>NaN</td>\n      <td>NaN</td>\n      <td>NaN</td>\n      <td>NaN</td>\n      <td>NaN</td>\n      <td>NaN</td>\n      <td>NaN</td>\n    </tr>\n    <tr>\n      <th>LABEL</th>\n      <td>858777</td>\n      <td>20</td>\n      <td>class19</td>\n      <td>256273</td>\n      <td>NaN</td>\n      <td>NaN</td>\n      <td>NaN</td>\n      <td>NaN</td>\n      <td>NaN</td>\n      <td>NaN</td>\n      <td>NaN</td>\n    </tr>\n    <tr>\n      <th>TARGET</th>\n      <td>858777</td>\n      <td>NaN</td>\n      <td>NaN</td>\n      <td>NaN</td>\n      <td>10.193</td>\n      <td>5.13289</td>\n      <td>0</td>\n      <td>6</td>\n      <td>11</td>\n      <td>14</td>\n      <td>19</td>\n    </tr>\n    <tr>\n      <th>LENGTH</th>\n      <td>858777</td>\n      <td>NaN</td>\n      <td>NaN</td>\n      <td>NaN</td>\n      <td>407.55</td>\n      <td>211.881</td>\n      <td>16</td>\n      <td>263</td>\n      <td>381</td>\n      <td>481</td>\n      <td>1234</td>\n    </tr>\n  </tbody>\n</table>\n</div>"
     },
     "metadata": {},
     "execution_count": 11
    }
   ],
   "source": [
    "train.describe(include='all').transpose()"
   ]
  },
  {
   "cell_type": "code",
   "execution_count": 12,
   "metadata": {},
   "outputs": [
    {
     "output_type": "execute_result",
     "data": {
      "text/plain": [
       "42077"
      ]
     },
     "metadata": {},
     "execution_count": 12
    }
   ],
   "source": [
    "n_duplicates = 858777 - 816700\n",
    "n_duplicates"
   ]
  },
  {
   "cell_type": "code",
   "execution_count": 13,
   "metadata": {},
   "outputs": [
    {
     "output_type": "execute_result",
     "data": {
      "text/plain": [
       "[256273,\n",
       " 62087,\n",
       " 52784,\n",
       " 46636,\n",
       " 45052,\n",
       " 37866,\n",
       " 36916,\n",
       " 36666,\n",
       " 35987,\n",
       " 35438,\n",
       " 32719,\n",
       " 32301,\n",
       " 29631,\n",
       " 28414,\n",
       " 19286,\n",
       " 17792,\n",
       " 14923,\n",
       " 13967,\n",
       " 12930,\n",
       " 11109]"
      ]
     },
     "metadata": {},
     "execution_count": 13
    }
   ],
   "source": [
    "class_distrib = dict(train.LABEL.value_counts())\n",
    "list(class_distrib.values())"
   ]
  },
  {
   "cell_type": "code",
   "execution_count": 14,
   "metadata": {},
   "outputs": [
    {
     "output_type": "display_data",
     "data": {
      "text/plain": "<Figure size 1440x576 with 1 Axes>",
      "image/svg+xml": "<?xml version=\"1.0\" encoding=\"utf-8\" standalone=\"no\"?>\n<!DOCTYPE svg PUBLIC \"-//W3C//DTD SVG 1.1//EN\"\n  \"http://www.w3.org/Graphics/SVG/1.1/DTD/svg11.dtd\">\n<!-- Created with matplotlib (https://matplotlib.org/) -->\n<svg height=\"484.115625pt\" version=\"1.1\" viewBox=\"0 0 1175.575 484.115625\" width=\"1175.575pt\" xmlns=\"http://www.w3.org/2000/svg\" xmlns:xlink=\"http://www.w3.org/1999/xlink\">\n <defs>\n  <style type=\"text/css\">\n*{stroke-linecap:butt;stroke-linejoin:round;}\n  </style>\n </defs>\n <g id=\"figure_1\">\n  <g id=\"patch_1\">\n   <path d=\"M 0 484.115625 \nL 1175.575 484.115625 \nL 1175.575 0 \nL 0 0 \nz\n\" style=\"fill:#ffffff;\"/>\n  </g>\n  <g id=\"axes_1\">\n   <g id=\"patch_2\">\n    <path d=\"M 52.375 460.2375 \nL 1168.375 460.2375 \nL 1168.375 25.3575 \nL 52.375 25.3575 \nz\n\" style=\"fill:#e5e5e5;\"/>\n   </g>\n   <g id=\"matplotlib.axis_1\">\n    <g id=\"xtick_1\">\n     <g id=\"line2d_1\">\n      <defs>\n       <path d=\"M 0 0 \nL 0 3.5 \n\" id=\"mde15c70f44\" style=\"stroke:#555555;stroke-width:0.8;\"/>\n      </defs>\n      <g>\n       <use style=\"fill:#555555;stroke:#555555;stroke-width:0.8;\" x=\"80.275\" xlink:href=\"#mde15c70f44\" y=\"460.2375\"/>\n      </g>\n     </g>\n     <g id=\"text_1\">\n      <!-- class19 -->\n      <defs>\n       <path d=\"M 48.78125 52.59375 \nL 48.78125 44.1875 \nQ 44.96875 46.296875 41.140625 47.34375 \nQ 37.3125 48.390625 33.40625 48.390625 \nQ 24.65625 48.390625 19.8125 42.84375 \nQ 14.984375 37.3125 14.984375 27.296875 \nQ 14.984375 17.28125 19.8125 11.734375 \nQ 24.65625 6.203125 33.40625 6.203125 \nQ 37.3125 6.203125 41.140625 7.25 \nQ 44.96875 8.296875 48.78125 10.40625 \nL 48.78125 2.09375 \nQ 45.015625 0.34375 40.984375 -0.53125 \nQ 36.96875 -1.421875 32.421875 -1.421875 \nQ 20.0625 -1.421875 12.78125 6.34375 \nQ 5.515625 14.109375 5.515625 27.296875 \nQ 5.515625 40.671875 12.859375 48.328125 \nQ 20.21875 56 33.015625 56 \nQ 37.15625 56 41.109375 55.140625 \nQ 45.0625 54.296875 48.78125 52.59375 \nz\n\" id=\"DejaVuSans-99\"/>\n       <path d=\"M 9.421875 75.984375 \nL 18.40625 75.984375 \nL 18.40625 0 \nL 9.421875 0 \nz\n\" id=\"DejaVuSans-108\"/>\n       <path d=\"M 34.28125 27.484375 \nQ 23.390625 27.484375 19.1875 25 \nQ 14.984375 22.515625 14.984375 16.5 \nQ 14.984375 11.71875 18.140625 8.90625 \nQ 21.296875 6.109375 26.703125 6.109375 \nQ 34.1875 6.109375 38.703125 11.40625 \nQ 43.21875 16.703125 43.21875 25.484375 \nL 43.21875 27.484375 \nz\nM 52.203125 31.203125 \nL 52.203125 0 \nL 43.21875 0 \nL 43.21875 8.296875 \nQ 40.140625 3.328125 35.546875 0.953125 \nQ 30.953125 -1.421875 24.3125 -1.421875 \nQ 15.921875 -1.421875 10.953125 3.296875 \nQ 6 8.015625 6 15.921875 \nQ 6 25.140625 12.171875 29.828125 \nQ 18.359375 34.515625 30.609375 34.515625 \nL 43.21875 34.515625 \nL 43.21875 35.40625 \nQ 43.21875 41.609375 39.140625 45 \nQ 35.0625 48.390625 27.6875 48.390625 \nQ 23 48.390625 18.546875 47.265625 \nQ 14.109375 46.140625 10.015625 43.890625 \nL 10.015625 52.203125 \nQ 14.9375 54.109375 19.578125 55.046875 \nQ 24.21875 56 28.609375 56 \nQ 40.484375 56 46.34375 49.84375 \nQ 52.203125 43.703125 52.203125 31.203125 \nz\n\" id=\"DejaVuSans-97\"/>\n       <path d=\"M 44.28125 53.078125 \nL 44.28125 44.578125 \nQ 40.484375 46.53125 36.375 47.5 \nQ 32.28125 48.484375 27.875 48.484375 \nQ 21.1875 48.484375 17.84375 46.4375 \nQ 14.5 44.390625 14.5 40.28125 \nQ 14.5 37.15625 16.890625 35.375 \nQ 19.28125 33.59375 26.515625 31.984375 \nL 29.59375 31.296875 \nQ 39.15625 29.25 43.1875 25.515625 \nQ 47.21875 21.78125 47.21875 15.09375 \nQ 47.21875 7.46875 41.1875 3.015625 \nQ 35.15625 -1.421875 24.609375 -1.421875 \nQ 20.21875 -1.421875 15.453125 -0.5625 \nQ 10.6875 0.296875 5.421875 2 \nL 5.421875 11.28125 \nQ 10.40625 8.6875 15.234375 7.390625 \nQ 20.0625 6.109375 24.8125 6.109375 \nQ 31.15625 6.109375 34.5625 8.28125 \nQ 37.984375 10.453125 37.984375 14.40625 \nQ 37.984375 18.0625 35.515625 20.015625 \nQ 33.0625 21.96875 24.703125 23.78125 \nL 21.578125 24.515625 \nQ 13.234375 26.265625 9.515625 29.90625 \nQ 5.8125 33.546875 5.8125 39.890625 \nQ 5.8125 47.609375 11.28125 51.796875 \nQ 16.75 56 26.8125 56 \nQ 31.78125 56 36.171875 55.265625 \nQ 40.578125 54.546875 44.28125 53.078125 \nz\n\" id=\"DejaVuSans-115\"/>\n       <path d=\"M 12.40625 8.296875 \nL 28.515625 8.296875 \nL 28.515625 63.921875 \nL 10.984375 60.40625 \nL 10.984375 69.390625 \nL 28.421875 72.90625 \nL 38.28125 72.90625 \nL 38.28125 8.296875 \nL 54.390625 8.296875 \nL 54.390625 0 \nL 12.40625 0 \nz\n\" id=\"DejaVuSans-49\"/>\n       <path d=\"M 10.984375 1.515625 \nL 10.984375 10.5 \nQ 14.703125 8.734375 18.5 7.8125 \nQ 22.3125 6.890625 25.984375 6.890625 \nQ 35.75 6.890625 40.890625 13.453125 \nQ 46.046875 20.015625 46.78125 33.40625 \nQ 43.953125 29.203125 39.59375 26.953125 \nQ 35.25 24.703125 29.984375 24.703125 \nQ 19.046875 24.703125 12.671875 31.3125 \nQ 6.296875 37.9375 6.296875 49.421875 \nQ 6.296875 60.640625 12.9375 67.421875 \nQ 19.578125 74.21875 30.609375 74.21875 \nQ 43.265625 74.21875 49.921875 64.515625 \nQ 56.59375 54.828125 56.59375 36.375 \nQ 56.59375 19.140625 48.40625 8.859375 \nQ 40.234375 -1.421875 26.421875 -1.421875 \nQ 22.703125 -1.421875 18.890625 -0.6875 \nQ 15.09375 0.046875 10.984375 1.515625 \nz\nM 30.609375 32.421875 \nQ 37.25 32.421875 41.125 36.953125 \nQ 45.015625 41.5 45.015625 49.421875 \nQ 45.015625 57.28125 41.125 61.84375 \nQ 37.25 66.40625 30.609375 66.40625 \nQ 23.96875 66.40625 20.09375 61.84375 \nQ 16.21875 57.28125 16.21875 49.421875 \nQ 16.21875 41.5 20.09375 36.953125 \nQ 23.96875 32.421875 30.609375 32.421875 \nz\n\" id=\"DejaVuSans-57\"/>\n      </defs>\n      <g style=\"fill:#555555;\" transform=\"translate(61.500781 474.835937)scale(0.1 -0.1)\">\n       <use xlink:href=\"#DejaVuSans-99\"/>\n       <use x=\"54.980469\" xlink:href=\"#DejaVuSans-108\"/>\n       <use x=\"82.763672\" xlink:href=\"#DejaVuSans-97\"/>\n       <use x=\"144.042969\" xlink:href=\"#DejaVuSans-115\"/>\n       <use x=\"196.142578\" xlink:href=\"#DejaVuSans-115\"/>\n       <use x=\"248.242188\" xlink:href=\"#DejaVuSans-49\"/>\n       <use x=\"311.865234\" xlink:href=\"#DejaVuSans-57\"/>\n      </g>\n     </g>\n    </g>\n    <g id=\"xtick_2\">\n     <g id=\"line2d_2\">\n      <g>\n       <use style=\"fill:#555555;stroke:#555555;stroke-width:0.8;\" x=\"136.075\" xlink:href=\"#mde15c70f44\" y=\"460.2375\"/>\n      </g>\n     </g>\n     <g id=\"text_2\">\n      <!-- class11 -->\n      <g style=\"fill:#555555;\" transform=\"translate(117.300781 474.835937)scale(0.1 -0.1)\">\n       <use xlink:href=\"#DejaVuSans-99\"/>\n       <use x=\"54.980469\" xlink:href=\"#DejaVuSans-108\"/>\n       <use x=\"82.763672\" xlink:href=\"#DejaVuSans-97\"/>\n       <use x=\"144.042969\" xlink:href=\"#DejaVuSans-115\"/>\n       <use x=\"196.142578\" xlink:href=\"#DejaVuSans-115\"/>\n       <use x=\"248.242188\" xlink:href=\"#DejaVuSans-49\"/>\n       <use x=\"311.865234\" xlink:href=\"#DejaVuSans-49\"/>\n      </g>\n     </g>\n    </g>\n    <g id=\"xtick_3\">\n     <g id=\"line2d_3\">\n      <g>\n       <use style=\"fill:#555555;stroke:#555555;stroke-width:0.8;\" x=\"191.875\" xlink:href=\"#mde15c70f44\" y=\"460.2375\"/>\n      </g>\n     </g>\n     <g id=\"text_3\">\n      <!-- class2 -->\n      <defs>\n       <path d=\"M 19.1875 8.296875 \nL 53.609375 8.296875 \nL 53.609375 0 \nL 7.328125 0 \nL 7.328125 8.296875 \nQ 12.9375 14.109375 22.625 23.890625 \nQ 32.328125 33.6875 34.8125 36.53125 \nQ 39.546875 41.84375 41.421875 45.53125 \nQ 43.3125 49.21875 43.3125 52.78125 \nQ 43.3125 58.59375 39.234375 62.25 \nQ 35.15625 65.921875 28.609375 65.921875 \nQ 23.96875 65.921875 18.8125 64.3125 \nQ 13.671875 62.703125 7.8125 59.421875 \nL 7.8125 69.390625 \nQ 13.765625 71.78125 18.9375 73 \nQ 24.125 74.21875 28.421875 74.21875 \nQ 39.75 74.21875 46.484375 68.546875 \nQ 53.21875 62.890625 53.21875 53.421875 \nQ 53.21875 48.921875 51.53125 44.890625 \nQ 49.859375 40.875 45.40625 35.40625 \nQ 44.1875 33.984375 37.640625 27.21875 \nQ 31.109375 20.453125 19.1875 8.296875 \nz\n\" id=\"DejaVuSans-50\"/>\n      </defs>\n      <g style=\"fill:#555555;\" transform=\"translate(176.282031 474.835937)scale(0.1 -0.1)\">\n       <use xlink:href=\"#DejaVuSans-99\"/>\n       <use x=\"54.980469\" xlink:href=\"#DejaVuSans-108\"/>\n       <use x=\"82.763672\" xlink:href=\"#DejaVuSans-97\"/>\n       <use x=\"144.042969\" xlink:href=\"#DejaVuSans-115\"/>\n       <use x=\"196.142578\" xlink:href=\"#DejaVuSans-115\"/>\n       <use x=\"248.242188\" xlink:href=\"#DejaVuSans-50\"/>\n      </g>\n     </g>\n    </g>\n    <g id=\"xtick_4\">\n     <g id=\"line2d_4\">\n      <g>\n       <use style=\"fill:#555555;stroke:#555555;stroke-width:0.8;\" x=\"247.675\" xlink:href=\"#mde15c70f44\" y=\"460.2375\"/>\n      </g>\n     </g>\n     <g id=\"text_4\">\n      <!-- class6 -->\n      <defs>\n       <path d=\"M 33.015625 40.375 \nQ 26.375 40.375 22.484375 35.828125 \nQ 18.609375 31.296875 18.609375 23.390625 \nQ 18.609375 15.53125 22.484375 10.953125 \nQ 26.375 6.390625 33.015625 6.390625 \nQ 39.65625 6.390625 43.53125 10.953125 \nQ 47.40625 15.53125 47.40625 23.390625 \nQ 47.40625 31.296875 43.53125 35.828125 \nQ 39.65625 40.375 33.015625 40.375 \nz\nM 52.59375 71.296875 \nL 52.59375 62.3125 \nQ 48.875 64.0625 45.09375 64.984375 \nQ 41.3125 65.921875 37.59375 65.921875 \nQ 27.828125 65.921875 22.671875 59.328125 \nQ 17.53125 52.734375 16.796875 39.40625 \nQ 19.671875 43.65625 24.015625 45.921875 \nQ 28.375 48.1875 33.59375 48.1875 \nQ 44.578125 48.1875 50.953125 41.515625 \nQ 57.328125 34.859375 57.328125 23.390625 \nQ 57.328125 12.15625 50.6875 5.359375 \nQ 44.046875 -1.421875 33.015625 -1.421875 \nQ 20.359375 -1.421875 13.671875 8.265625 \nQ 6.984375 17.96875 6.984375 36.375 \nQ 6.984375 53.65625 15.1875 63.9375 \nQ 23.390625 74.21875 37.203125 74.21875 \nQ 40.921875 74.21875 44.703125 73.484375 \nQ 48.484375 72.75 52.59375 71.296875 \nz\n\" id=\"DejaVuSans-54\"/>\n      </defs>\n      <g style=\"fill:#555555;\" transform=\"translate(232.082031 474.835937)scale(0.1 -0.1)\">\n       <use xlink:href=\"#DejaVuSans-99\"/>\n       <use x=\"54.980469\" xlink:href=\"#DejaVuSans-108\"/>\n       <use x=\"82.763672\" xlink:href=\"#DejaVuSans-97\"/>\n       <use x=\"144.042969\" xlink:href=\"#DejaVuSans-115\"/>\n       <use x=\"196.142578\" xlink:href=\"#DejaVuSans-115\"/>\n       <use x=\"248.242188\" xlink:href=\"#DejaVuSans-54\"/>\n      </g>\n     </g>\n    </g>\n    <g id=\"xtick_5\">\n     <g id=\"line2d_5\">\n      <g>\n       <use style=\"fill:#555555;stroke:#555555;stroke-width:0.8;\" x=\"303.475\" xlink:href=\"#mde15c70f44\" y=\"460.2375\"/>\n      </g>\n     </g>\n     <g id=\"text_5\">\n      <!-- class8 -->\n      <defs>\n       <path d=\"M 31.78125 34.625 \nQ 24.75 34.625 20.71875 30.859375 \nQ 16.703125 27.09375 16.703125 20.515625 \nQ 16.703125 13.921875 20.71875 10.15625 \nQ 24.75 6.390625 31.78125 6.390625 \nQ 38.8125 6.390625 42.859375 10.171875 \nQ 46.921875 13.96875 46.921875 20.515625 \nQ 46.921875 27.09375 42.890625 30.859375 \nQ 38.875 34.625 31.78125 34.625 \nz\nM 21.921875 38.8125 \nQ 15.578125 40.375 12.03125 44.71875 \nQ 8.5 49.078125 8.5 55.328125 \nQ 8.5 64.0625 14.71875 69.140625 \nQ 20.953125 74.21875 31.78125 74.21875 \nQ 42.671875 74.21875 48.875 69.140625 \nQ 55.078125 64.0625 55.078125 55.328125 \nQ 55.078125 49.078125 51.53125 44.71875 \nQ 48 40.375 41.703125 38.8125 \nQ 48.828125 37.15625 52.796875 32.3125 \nQ 56.78125 27.484375 56.78125 20.515625 \nQ 56.78125 9.90625 50.3125 4.234375 \nQ 43.84375 -1.421875 31.78125 -1.421875 \nQ 19.734375 -1.421875 13.25 4.234375 \nQ 6.78125 9.90625 6.78125 20.515625 \nQ 6.78125 27.484375 10.78125 32.3125 \nQ 14.796875 37.15625 21.921875 38.8125 \nz\nM 18.3125 54.390625 \nQ 18.3125 48.734375 21.84375 45.5625 \nQ 25.390625 42.390625 31.78125 42.390625 \nQ 38.140625 42.390625 41.71875 45.5625 \nQ 45.3125 48.734375 45.3125 54.390625 \nQ 45.3125 60.0625 41.71875 63.234375 \nQ 38.140625 66.40625 31.78125 66.40625 \nQ 25.390625 66.40625 21.84375 63.234375 \nQ 18.3125 60.0625 18.3125 54.390625 \nz\n\" id=\"DejaVuSans-56\"/>\n      </defs>\n      <g style=\"fill:#555555;\" transform=\"translate(287.882031 474.835937)scale(0.1 -0.1)\">\n       <use xlink:href=\"#DejaVuSans-99\"/>\n       <use x=\"54.980469\" xlink:href=\"#DejaVuSans-108\"/>\n       <use x=\"82.763672\" xlink:href=\"#DejaVuSans-97\"/>\n       <use x=\"144.042969\" xlink:href=\"#DejaVuSans-115\"/>\n       <use x=\"196.142578\" xlink:href=\"#DejaVuSans-115\"/>\n       <use x=\"248.242188\" xlink:href=\"#DejaVuSans-56\"/>\n      </g>\n     </g>\n    </g>\n    <g id=\"xtick_6\">\n     <g id=\"line2d_6\">\n      <g>\n       <use style=\"fill:#555555;stroke:#555555;stroke-width:0.8;\" x=\"359.275\" xlink:href=\"#mde15c70f44\" y=\"460.2375\"/>\n      </g>\n     </g>\n     <g id=\"text_6\">\n      <!-- class12 -->\n      <g style=\"fill:#555555;\" transform=\"translate(340.500781 474.835937)scale(0.1 -0.1)\">\n       <use xlink:href=\"#DejaVuSans-99\"/>\n       <use x=\"54.980469\" xlink:href=\"#DejaVuSans-108\"/>\n       <use x=\"82.763672\" xlink:href=\"#DejaVuSans-97\"/>\n       <use x=\"144.042969\" xlink:href=\"#DejaVuSans-115\"/>\n       <use x=\"196.142578\" xlink:href=\"#DejaVuSans-115\"/>\n       <use x=\"248.242188\" xlink:href=\"#DejaVuSans-49\"/>\n       <use x=\"311.865234\" xlink:href=\"#DejaVuSans-50\"/>\n      </g>\n     </g>\n    </g>\n    <g id=\"xtick_7\">\n     <g id=\"line2d_7\">\n      <g>\n       <use style=\"fill:#555555;stroke:#555555;stroke-width:0.8;\" x=\"415.075\" xlink:href=\"#mde15c70f44\" y=\"460.2375\"/>\n      </g>\n     </g>\n     <g id=\"text_7\">\n      <!-- class5 -->\n      <defs>\n       <path d=\"M 10.796875 72.90625 \nL 49.515625 72.90625 \nL 49.515625 64.59375 \nL 19.828125 64.59375 \nL 19.828125 46.734375 \nQ 21.96875 47.46875 24.109375 47.828125 \nQ 26.265625 48.1875 28.421875 48.1875 \nQ 40.625 48.1875 47.75 41.5 \nQ 54.890625 34.8125 54.890625 23.390625 \nQ 54.890625 11.625 47.5625 5.09375 \nQ 40.234375 -1.421875 26.90625 -1.421875 \nQ 22.3125 -1.421875 17.546875 -0.640625 \nQ 12.796875 0.140625 7.71875 1.703125 \nL 7.71875 11.625 \nQ 12.109375 9.234375 16.796875 8.0625 \nQ 21.484375 6.890625 26.703125 6.890625 \nQ 35.15625 6.890625 40.078125 11.328125 \nQ 45.015625 15.765625 45.015625 23.390625 \nQ 45.015625 31 40.078125 35.4375 \nQ 35.15625 39.890625 26.703125 39.890625 \nQ 22.75 39.890625 18.8125 39.015625 \nQ 14.890625 38.140625 10.796875 36.28125 \nz\n\" id=\"DejaVuSans-53\"/>\n      </defs>\n      <g style=\"fill:#555555;\" transform=\"translate(399.482031 474.835937)scale(0.1 -0.1)\">\n       <use xlink:href=\"#DejaVuSans-99\"/>\n       <use x=\"54.980469\" xlink:href=\"#DejaVuSans-108\"/>\n       <use x=\"82.763672\" xlink:href=\"#DejaVuSans-97\"/>\n       <use x=\"144.042969\" xlink:href=\"#DejaVuSans-115\"/>\n       <use x=\"196.142578\" xlink:href=\"#DejaVuSans-115\"/>\n       <use x=\"248.242188\" xlink:href=\"#DejaVuSans-53\"/>\n      </g>\n     </g>\n    </g>\n    <g id=\"xtick_8\">\n     <g id=\"line2d_8\">\n      <g>\n       <use style=\"fill:#555555;stroke:#555555;stroke-width:0.8;\" x=\"470.875\" xlink:href=\"#mde15c70f44\" y=\"460.2375\"/>\n      </g>\n     </g>\n     <g id=\"text_8\">\n      <!-- class9 -->\n      <g style=\"fill:#555555;\" transform=\"translate(455.282031 474.835937)scale(0.1 -0.1)\">\n       <use xlink:href=\"#DejaVuSans-99\"/>\n       <use x=\"54.980469\" xlink:href=\"#DejaVuSans-108\"/>\n       <use x=\"82.763672\" xlink:href=\"#DejaVuSans-97\"/>\n       <use x=\"144.042969\" xlink:href=\"#DejaVuSans-115\"/>\n       <use x=\"196.142578\" xlink:href=\"#DejaVuSans-115\"/>\n       <use x=\"248.242188\" xlink:href=\"#DejaVuSans-57\"/>\n      </g>\n     </g>\n    </g>\n    <g id=\"xtick_9\">\n     <g id=\"line2d_9\">\n      <g>\n       <use style=\"fill:#555555;stroke:#555555;stroke-width:0.8;\" x=\"526.675\" xlink:href=\"#mde15c70f44\" y=\"460.2375\"/>\n      </g>\n     </g>\n     <g id=\"text_9\">\n      <!-- class1 -->\n      <g style=\"fill:#555555;\" transform=\"translate(511.082031 474.835937)scale(0.1 -0.1)\">\n       <use xlink:href=\"#DejaVuSans-99\"/>\n       <use x=\"54.980469\" xlink:href=\"#DejaVuSans-108\"/>\n       <use x=\"82.763672\" xlink:href=\"#DejaVuSans-97\"/>\n       <use x=\"144.042969\" xlink:href=\"#DejaVuSans-115\"/>\n       <use x=\"196.142578\" xlink:href=\"#DejaVuSans-115\"/>\n       <use x=\"248.242188\" xlink:href=\"#DejaVuSans-49\"/>\n      </g>\n     </g>\n    </g>\n    <g id=\"xtick_10\">\n     <g id=\"line2d_10\">\n      <g>\n       <use style=\"fill:#555555;stroke:#555555;stroke-width:0.8;\" x=\"582.475\" xlink:href=\"#mde15c70f44\" y=\"460.2375\"/>\n      </g>\n     </g>\n     <g id=\"text_10\">\n      <!-- class10 -->\n      <defs>\n       <path d=\"M 31.78125 66.40625 \nQ 24.171875 66.40625 20.328125 58.90625 \nQ 16.5 51.421875 16.5 36.375 \nQ 16.5 21.390625 20.328125 13.890625 \nQ 24.171875 6.390625 31.78125 6.390625 \nQ 39.453125 6.390625 43.28125 13.890625 \nQ 47.125 21.390625 47.125 36.375 \nQ 47.125 51.421875 43.28125 58.90625 \nQ 39.453125 66.40625 31.78125 66.40625 \nz\nM 31.78125 74.21875 \nQ 44.046875 74.21875 50.515625 64.515625 \nQ 56.984375 54.828125 56.984375 36.375 \nQ 56.984375 17.96875 50.515625 8.265625 \nQ 44.046875 -1.421875 31.78125 -1.421875 \nQ 19.53125 -1.421875 13.0625 8.265625 \nQ 6.59375 17.96875 6.59375 36.375 \nQ 6.59375 54.828125 13.0625 64.515625 \nQ 19.53125 74.21875 31.78125 74.21875 \nz\n\" id=\"DejaVuSans-48\"/>\n      </defs>\n      <g style=\"fill:#555555;\" transform=\"translate(563.700781 474.835937)scale(0.1 -0.1)\">\n       <use xlink:href=\"#DejaVuSans-99\"/>\n       <use x=\"54.980469\" xlink:href=\"#DejaVuSans-108\"/>\n       <use x=\"82.763672\" xlink:href=\"#DejaVuSans-97\"/>\n       <use x=\"144.042969\" xlink:href=\"#DejaVuSans-115\"/>\n       <use x=\"196.142578\" xlink:href=\"#DejaVuSans-115\"/>\n       <use x=\"248.242188\" xlink:href=\"#DejaVuSans-49\"/>\n       <use x=\"311.865234\" xlink:href=\"#DejaVuSans-48\"/>\n      </g>\n     </g>\n    </g>\n    <g id=\"xtick_11\">\n     <g id=\"line2d_11\">\n      <g>\n       <use style=\"fill:#555555;stroke:#555555;stroke-width:0.8;\" x=\"638.275\" xlink:href=\"#mde15c70f44\" y=\"460.2375\"/>\n      </g>\n     </g>\n     <g id=\"text_11\">\n      <!-- class3 -->\n      <defs>\n       <path d=\"M 40.578125 39.3125 \nQ 47.65625 37.796875 51.625 33 \nQ 55.609375 28.21875 55.609375 21.1875 \nQ 55.609375 10.40625 48.1875 4.484375 \nQ 40.765625 -1.421875 27.09375 -1.421875 \nQ 22.515625 -1.421875 17.65625 -0.515625 \nQ 12.796875 0.390625 7.625 2.203125 \nL 7.625 11.71875 \nQ 11.71875 9.328125 16.59375 8.109375 \nQ 21.484375 6.890625 26.8125 6.890625 \nQ 36.078125 6.890625 40.9375 10.546875 \nQ 45.796875 14.203125 45.796875 21.1875 \nQ 45.796875 27.640625 41.28125 31.265625 \nQ 36.765625 34.90625 28.71875 34.90625 \nL 20.21875 34.90625 \nL 20.21875 43.015625 \nL 29.109375 43.015625 \nQ 36.375 43.015625 40.234375 45.921875 \nQ 44.09375 48.828125 44.09375 54.296875 \nQ 44.09375 59.90625 40.109375 62.90625 \nQ 36.140625 65.921875 28.71875 65.921875 \nQ 24.65625 65.921875 20.015625 65.03125 \nQ 15.375 64.15625 9.8125 62.3125 \nL 9.8125 71.09375 \nQ 15.4375 72.65625 20.34375 73.4375 \nQ 25.25 74.21875 29.59375 74.21875 \nQ 40.828125 74.21875 47.359375 69.109375 \nQ 53.90625 64.015625 53.90625 55.328125 \nQ 53.90625 49.265625 50.4375 45.09375 \nQ 46.96875 40.921875 40.578125 39.3125 \nz\n\" id=\"DejaVuSans-51\"/>\n      </defs>\n      <g style=\"fill:#555555;\" transform=\"translate(622.682031 474.835937)scale(0.1 -0.1)\">\n       <use xlink:href=\"#DejaVuSans-99\"/>\n       <use x=\"54.980469\" xlink:href=\"#DejaVuSans-108\"/>\n       <use x=\"82.763672\" xlink:href=\"#DejaVuSans-97\"/>\n       <use x=\"144.042969\" xlink:href=\"#DejaVuSans-115\"/>\n       <use x=\"196.142578\" xlink:href=\"#DejaVuSans-115\"/>\n       <use x=\"248.242188\" xlink:href=\"#DejaVuSans-51\"/>\n      </g>\n     </g>\n    </g>\n    <g id=\"xtick_12\">\n     <g id=\"line2d_12\">\n      <g>\n       <use style=\"fill:#555555;stroke:#555555;stroke-width:0.8;\" x=\"694.075\" xlink:href=\"#mde15c70f44\" y=\"460.2375\"/>\n      </g>\n     </g>\n     <g id=\"text_12\">\n      <!-- class4 -->\n      <defs>\n       <path d=\"M 37.796875 64.3125 \nL 12.890625 25.390625 \nL 37.796875 25.390625 \nz\nM 35.203125 72.90625 \nL 47.609375 72.90625 \nL 47.609375 25.390625 \nL 58.015625 25.390625 \nL 58.015625 17.1875 \nL 47.609375 17.1875 \nL 47.609375 0 \nL 37.796875 0 \nL 37.796875 17.1875 \nL 4.890625 17.1875 \nL 4.890625 26.703125 \nz\n\" id=\"DejaVuSans-52\"/>\n      </defs>\n      <g style=\"fill:#555555;\" transform=\"translate(678.482031 474.835937)scale(0.1 -0.1)\">\n       <use xlink:href=\"#DejaVuSans-99\"/>\n       <use x=\"54.980469\" xlink:href=\"#DejaVuSans-108\"/>\n       <use x=\"82.763672\" xlink:href=\"#DejaVuSans-97\"/>\n       <use x=\"144.042969\" xlink:href=\"#DejaVuSans-115\"/>\n       <use x=\"196.142578\" xlink:href=\"#DejaVuSans-115\"/>\n       <use x=\"248.242188\" xlink:href=\"#DejaVuSans-52\"/>\n      </g>\n     </g>\n    </g>\n    <g id=\"xtick_13\">\n     <g id=\"line2d_13\">\n      <g>\n       <use style=\"fill:#555555;stroke:#555555;stroke-width:0.8;\" x=\"749.875\" xlink:href=\"#mde15c70f44\" y=\"460.2375\"/>\n      </g>\n     </g>\n     <g id=\"text_13\">\n      <!-- class13 -->\n      <g style=\"fill:#555555;\" transform=\"translate(731.100781 474.835937)scale(0.1 -0.1)\">\n       <use xlink:href=\"#DejaVuSans-99\"/>\n       <use x=\"54.980469\" xlink:href=\"#DejaVuSans-108\"/>\n       <use x=\"82.763672\" xlink:href=\"#DejaVuSans-97\"/>\n       <use x=\"144.042969\" xlink:href=\"#DejaVuSans-115\"/>\n       <use x=\"196.142578\" xlink:href=\"#DejaVuSans-115\"/>\n       <use x=\"248.242188\" xlink:href=\"#DejaVuSans-49\"/>\n       <use x=\"311.865234\" xlink:href=\"#DejaVuSans-51\"/>\n      </g>\n     </g>\n    </g>\n    <g id=\"xtick_14\">\n     <g id=\"line2d_14\">\n      <g>\n       <use style=\"fill:#555555;stroke:#555555;stroke-width:0.8;\" x=\"805.675\" xlink:href=\"#mde15c70f44\" y=\"460.2375\"/>\n      </g>\n     </g>\n     <g id=\"text_14\">\n      <!-- class16 -->\n      <g style=\"fill:#555555;\" transform=\"translate(786.900781 474.835937)scale(0.1 -0.1)\">\n       <use xlink:href=\"#DejaVuSans-99\"/>\n       <use x=\"54.980469\" xlink:href=\"#DejaVuSans-108\"/>\n       <use x=\"82.763672\" xlink:href=\"#DejaVuSans-97\"/>\n       <use x=\"144.042969\" xlink:href=\"#DejaVuSans-115\"/>\n       <use x=\"196.142578\" xlink:href=\"#DejaVuSans-115\"/>\n       <use x=\"248.242188\" xlink:href=\"#DejaVuSans-49\"/>\n       <use x=\"311.865234\" xlink:href=\"#DejaVuSans-54\"/>\n      </g>\n     </g>\n    </g>\n    <g id=\"xtick_15\">\n     <g id=\"line2d_15\">\n      <g>\n       <use style=\"fill:#555555;stroke:#555555;stroke-width:0.8;\" x=\"861.475\" xlink:href=\"#mde15c70f44\" y=\"460.2375\"/>\n      </g>\n     </g>\n     <g id=\"text_15\">\n      <!-- class7 -->\n      <defs>\n       <path d=\"M 8.203125 72.90625 \nL 55.078125 72.90625 \nL 55.078125 68.703125 \nL 28.609375 0 \nL 18.3125 0 \nL 43.21875 64.59375 \nL 8.203125 64.59375 \nz\n\" id=\"DejaVuSans-55\"/>\n      </defs>\n      <g style=\"fill:#555555;\" transform=\"translate(845.882031 474.835937)scale(0.1 -0.1)\">\n       <use xlink:href=\"#DejaVuSans-99\"/>\n       <use x=\"54.980469\" xlink:href=\"#DejaVuSans-108\"/>\n       <use x=\"82.763672\" xlink:href=\"#DejaVuSans-97\"/>\n       <use x=\"144.042969\" xlink:href=\"#DejaVuSans-115\"/>\n       <use x=\"196.142578\" xlink:href=\"#DejaVuSans-115\"/>\n       <use x=\"248.242188\" xlink:href=\"#DejaVuSans-55\"/>\n      </g>\n     </g>\n    </g>\n    <g id=\"xtick_16\">\n     <g id=\"line2d_16\">\n      <g>\n       <use style=\"fill:#555555;stroke:#555555;stroke-width:0.8;\" x=\"917.275\" xlink:href=\"#mde15c70f44\" y=\"460.2375\"/>\n      </g>\n     </g>\n     <g id=\"text_16\">\n      <!-- class14 -->\n      <g style=\"fill:#555555;\" transform=\"translate(898.500781 474.835937)scale(0.1 -0.1)\">\n       <use xlink:href=\"#DejaVuSans-99\"/>\n       <use x=\"54.980469\" xlink:href=\"#DejaVuSans-108\"/>\n       <use x=\"82.763672\" xlink:href=\"#DejaVuSans-97\"/>\n       <use x=\"144.042969\" xlink:href=\"#DejaVuSans-115\"/>\n       <use x=\"196.142578\" xlink:href=\"#DejaVuSans-115\"/>\n       <use x=\"248.242188\" xlink:href=\"#DejaVuSans-49\"/>\n       <use x=\"311.865234\" xlink:href=\"#DejaVuSans-52\"/>\n      </g>\n     </g>\n    </g>\n    <g id=\"xtick_17\">\n     <g id=\"line2d_17\">\n      <g>\n       <use style=\"fill:#555555;stroke:#555555;stroke-width:0.8;\" x=\"973.075\" xlink:href=\"#mde15c70f44\" y=\"460.2375\"/>\n      </g>\n     </g>\n     <g id=\"text_17\">\n      <!-- class17 -->\n      <g style=\"fill:#555555;\" transform=\"translate(954.300781 474.835937)scale(0.1 -0.1)\">\n       <use xlink:href=\"#DejaVuSans-99\"/>\n       <use x=\"54.980469\" xlink:href=\"#DejaVuSans-108\"/>\n       <use x=\"82.763672\" xlink:href=\"#DejaVuSans-97\"/>\n       <use x=\"144.042969\" xlink:href=\"#DejaVuSans-115\"/>\n       <use x=\"196.142578\" xlink:href=\"#DejaVuSans-115\"/>\n       <use x=\"248.242188\" xlink:href=\"#DejaVuSans-49\"/>\n       <use x=\"311.865234\" xlink:href=\"#DejaVuSans-55\"/>\n      </g>\n     </g>\n    </g>\n    <g id=\"xtick_18\">\n     <g id=\"line2d_18\">\n      <g>\n       <use style=\"fill:#555555;stroke:#555555;stroke-width:0.8;\" x=\"1028.875\" xlink:href=\"#mde15c70f44\" y=\"460.2375\"/>\n      </g>\n     </g>\n     <g id=\"text_18\">\n      <!-- class15 -->\n      <g style=\"fill:#555555;\" transform=\"translate(1010.100781 474.835937)scale(0.1 -0.1)\">\n       <use xlink:href=\"#DejaVuSans-99\"/>\n       <use x=\"54.980469\" xlink:href=\"#DejaVuSans-108\"/>\n       <use x=\"82.763672\" xlink:href=\"#DejaVuSans-97\"/>\n       <use x=\"144.042969\" xlink:href=\"#DejaVuSans-115\"/>\n       <use x=\"196.142578\" xlink:href=\"#DejaVuSans-115\"/>\n       <use x=\"248.242188\" xlink:href=\"#DejaVuSans-49\"/>\n       <use x=\"311.865234\" xlink:href=\"#DejaVuSans-53\"/>\n      </g>\n     </g>\n    </g>\n    <g id=\"xtick_19\">\n     <g id=\"line2d_19\">\n      <g>\n       <use style=\"fill:#555555;stroke:#555555;stroke-width:0.8;\" x=\"1084.675\" xlink:href=\"#mde15c70f44\" y=\"460.2375\"/>\n      </g>\n     </g>\n     <g id=\"text_19\">\n      <!-- class18 -->\n      <g style=\"fill:#555555;\" transform=\"translate(1065.900781 474.835937)scale(0.1 -0.1)\">\n       <use xlink:href=\"#DejaVuSans-99\"/>\n       <use x=\"54.980469\" xlink:href=\"#DejaVuSans-108\"/>\n       <use x=\"82.763672\" xlink:href=\"#DejaVuSans-97\"/>\n       <use x=\"144.042969\" xlink:href=\"#DejaVuSans-115\"/>\n       <use x=\"196.142578\" xlink:href=\"#DejaVuSans-115\"/>\n       <use x=\"248.242188\" xlink:href=\"#DejaVuSans-49\"/>\n       <use x=\"311.865234\" xlink:href=\"#DejaVuSans-56\"/>\n      </g>\n     </g>\n    </g>\n    <g id=\"xtick_20\">\n     <g id=\"line2d_20\">\n      <g>\n       <use style=\"fill:#555555;stroke:#555555;stroke-width:0.8;\" x=\"1140.475\" xlink:href=\"#mde15c70f44\" y=\"460.2375\"/>\n      </g>\n     </g>\n     <g id=\"text_20\">\n      <!-- class0 -->\n      <g style=\"fill:#555555;\" transform=\"translate(1124.882031 474.835937)scale(0.1 -0.1)\">\n       <use xlink:href=\"#DejaVuSans-99\"/>\n       <use x=\"54.980469\" xlink:href=\"#DejaVuSans-108\"/>\n       <use x=\"82.763672\" xlink:href=\"#DejaVuSans-97\"/>\n       <use x=\"144.042969\" xlink:href=\"#DejaVuSans-115\"/>\n       <use x=\"196.142578\" xlink:href=\"#DejaVuSans-115\"/>\n       <use x=\"248.242188\" xlink:href=\"#DejaVuSans-48\"/>\n      </g>\n     </g>\n    </g>\n   </g>\n   <g id=\"matplotlib.axis_2\">\n    <g id=\"ytick_1\">\n     <g id=\"line2d_21\">\n      <path clip-path=\"url(#pcfa8b00470)\" d=\"M 52.375 460.2375 \nL 1168.375 460.2375 \n\" style=\"fill:none;stroke:#ffffff;stroke-linecap:square;stroke-width:0.8;\"/>\n     </g>\n     <g id=\"line2d_22\">\n      <defs>\n       <path d=\"M 0 0 \nL -3.5 0 \n\" id=\"mc9ead54f93\" style=\"stroke:#555555;stroke-width:0.8;\"/>\n      </defs>\n      <g>\n       <use style=\"fill:#555555;stroke:#555555;stroke-width:0.8;\" x=\"52.375\" xlink:href=\"#mc9ead54f93\" y=\"460.2375\"/>\n      </g>\n     </g>\n     <g id=\"text_21\">\n      <!-- 0 -->\n      <g style=\"fill:#555555;\" transform=\"translate(39.0125 464.036719)scale(0.1 -0.1)\">\n       <use xlink:href=\"#DejaVuSans-48\"/>\n      </g>\n     </g>\n    </g>\n    <g id=\"ytick_2\">\n     <g id=\"line2d_23\">\n      <path clip-path=\"url(#pcfa8b00470)\" d=\"M 52.375 379.430816 \nL 1168.375 379.430816 \n\" style=\"fill:none;stroke:#ffffff;stroke-linecap:square;stroke-width:0.8;\"/>\n     </g>\n     <g id=\"line2d_24\">\n      <g>\n       <use style=\"fill:#555555;stroke:#555555;stroke-width:0.8;\" x=\"52.375\" xlink:href=\"#mc9ead54f93\" y=\"379.430816\"/>\n      </g>\n     </g>\n     <g id=\"text_22\">\n      <!-- 50000 -->\n      <g style=\"fill:#555555;\" transform=\"translate(13.5625 383.230034)scale(0.1 -0.1)\">\n       <use xlink:href=\"#DejaVuSans-53\"/>\n       <use x=\"63.623047\" xlink:href=\"#DejaVuSans-48\"/>\n       <use x=\"127.246094\" xlink:href=\"#DejaVuSans-48\"/>\n       <use x=\"190.869141\" xlink:href=\"#DejaVuSans-48\"/>\n       <use x=\"254.492188\" xlink:href=\"#DejaVuSans-48\"/>\n      </g>\n     </g>\n    </g>\n    <g id=\"ytick_3\">\n     <g id=\"line2d_25\">\n      <path clip-path=\"url(#pcfa8b00470)\" d=\"M 52.375 298.624131 \nL 1168.375 298.624131 \n\" style=\"fill:none;stroke:#ffffff;stroke-linecap:square;stroke-width:0.8;\"/>\n     </g>\n     <g id=\"line2d_26\">\n      <g>\n       <use style=\"fill:#555555;stroke:#555555;stroke-width:0.8;\" x=\"52.375\" xlink:href=\"#mc9ead54f93\" y=\"298.624131\"/>\n      </g>\n     </g>\n     <g id=\"text_23\">\n      <!-- 100000 -->\n      <g style=\"fill:#555555;\" transform=\"translate(7.2 302.42335)scale(0.1 -0.1)\">\n       <use xlink:href=\"#DejaVuSans-49\"/>\n       <use x=\"63.623047\" xlink:href=\"#DejaVuSans-48\"/>\n       <use x=\"127.246094\" xlink:href=\"#DejaVuSans-48\"/>\n       <use x=\"190.869141\" xlink:href=\"#DejaVuSans-48\"/>\n       <use x=\"254.492188\" xlink:href=\"#DejaVuSans-48\"/>\n       <use x=\"318.115234\" xlink:href=\"#DejaVuSans-48\"/>\n      </g>\n     </g>\n    </g>\n    <g id=\"ytick_4\">\n     <g id=\"line2d_27\">\n      <path clip-path=\"url(#pcfa8b00470)\" d=\"M 52.375 217.817447 \nL 1168.375 217.817447 \n\" style=\"fill:none;stroke:#ffffff;stroke-linecap:square;stroke-width:0.8;\"/>\n     </g>\n     <g id=\"line2d_28\">\n      <g>\n       <use style=\"fill:#555555;stroke:#555555;stroke-width:0.8;\" x=\"52.375\" xlink:href=\"#mc9ead54f93\" y=\"217.817447\"/>\n      </g>\n     </g>\n     <g id=\"text_24\">\n      <!-- 150000 -->\n      <g style=\"fill:#555555;\" transform=\"translate(7.2 221.616666)scale(0.1 -0.1)\">\n       <use xlink:href=\"#DejaVuSans-49\"/>\n       <use x=\"63.623047\" xlink:href=\"#DejaVuSans-53\"/>\n       <use x=\"127.246094\" xlink:href=\"#DejaVuSans-48\"/>\n       <use x=\"190.869141\" xlink:href=\"#DejaVuSans-48\"/>\n       <use x=\"254.492188\" xlink:href=\"#DejaVuSans-48\"/>\n       <use x=\"318.115234\" xlink:href=\"#DejaVuSans-48\"/>\n      </g>\n     </g>\n    </g>\n    <g id=\"ytick_5\">\n     <g id=\"line2d_29\">\n      <path clip-path=\"url(#pcfa8b00470)\" d=\"M 52.375 137.010762 \nL 1168.375 137.010762 \n\" style=\"fill:none;stroke:#ffffff;stroke-linecap:square;stroke-width:0.8;\"/>\n     </g>\n     <g id=\"line2d_30\">\n      <g>\n       <use style=\"fill:#555555;stroke:#555555;stroke-width:0.8;\" x=\"52.375\" xlink:href=\"#mc9ead54f93\" y=\"137.010762\"/>\n      </g>\n     </g>\n     <g id=\"text_25\">\n      <!-- 200000 -->\n      <g style=\"fill:#555555;\" transform=\"translate(7.2 140.809981)scale(0.1 -0.1)\">\n       <use xlink:href=\"#DejaVuSans-50\"/>\n       <use x=\"63.623047\" xlink:href=\"#DejaVuSans-48\"/>\n       <use x=\"127.246094\" xlink:href=\"#DejaVuSans-48\"/>\n       <use x=\"190.869141\" xlink:href=\"#DejaVuSans-48\"/>\n       <use x=\"254.492188\" xlink:href=\"#DejaVuSans-48\"/>\n       <use x=\"318.115234\" xlink:href=\"#DejaVuSans-48\"/>\n      </g>\n     </g>\n    </g>\n    <g id=\"ytick_6\">\n     <g id=\"line2d_31\">\n      <path clip-path=\"url(#pcfa8b00470)\" d=\"M 52.375 56.204078 \nL 1168.375 56.204078 \n\" style=\"fill:none;stroke:#ffffff;stroke-linecap:square;stroke-width:0.8;\"/>\n     </g>\n     <g id=\"line2d_32\">\n      <g>\n       <use style=\"fill:#555555;stroke:#555555;stroke-width:0.8;\" x=\"52.375\" xlink:href=\"#mc9ead54f93\" y=\"56.204078\"/>\n      </g>\n     </g>\n     <g id=\"text_26\">\n      <!-- 250000 -->\n      <g style=\"fill:#555555;\" transform=\"translate(7.2 60.003297)scale(0.1 -0.1)\">\n       <use xlink:href=\"#DejaVuSans-50\"/>\n       <use x=\"63.623047\" xlink:href=\"#DejaVuSans-53\"/>\n       <use x=\"127.246094\" xlink:href=\"#DejaVuSans-48\"/>\n       <use x=\"190.869141\" xlink:href=\"#DejaVuSans-48\"/>\n       <use x=\"254.492188\" xlink:href=\"#DejaVuSans-48\"/>\n       <use x=\"318.115234\" xlink:href=\"#DejaVuSans-48\"/>\n      </g>\n     </g>\n    </g>\n   </g>\n   <g id=\"patch_3\">\n    <path clip-path=\"url(#pcfa8b00470)\" d=\"M 57.955 460.2375 \nL 102.595 460.2375 \nL 102.595 46.066071 \nL 57.955 46.066071 \nz\n\" style=\"fill:#ea96a3;\"/>\n   </g>\n   <g id=\"patch_4\">\n    <path clip-path=\"url(#pcfa8b00470)\" d=\"M 113.755 460.2375 \nL 158.395 460.2375 \nL 158.395 359.896608 \nL 113.755 359.896608 \nz\n\" style=\"fill:#e79683;\"/>\n   </g>\n   <g id=\"patch_5\">\n    <path clip-path=\"url(#pcfa8b00470)\" d=\"M 169.555 460.2375 \nL 214.195 460.2375 \nL 214.195 374.931499 \nL 169.555 374.931499 \nz\n\" style=\"fill:#d7944e;\"/>\n   </g>\n   <g id=\"patch_6\">\n    <path clip-path=\"url(#pcfa8b00470)\" d=\"M 225.355 460.2375 \nL 269.995 460.2375 \nL 269.995 384.867489 \nL 225.355 384.867489 \nz\n\" style=\"fill:#bf9a4a;\"/>\n   </g>\n   <g id=\"patch_7\">\n    <path clip-path=\"url(#pcfa8b00470)\" d=\"M 281.155 460.2375 \nL 325.795 460.2375 \nL 325.795 387.427445 \nL 281.155 387.427445 \nz\n\" style=\"fill:#ab9e47;\"/>\n   </g>\n   <g id=\"patch_8\">\n    <path clip-path=\"url(#pcfa8b00470)\" d=\"M 336.955 460.2375 \nL 381.595 460.2375 \nL 381.595 399.040982 \nL 336.955 399.040982 \nz\n\" style=\"fill:#98a246;\"/>\n   </g>\n   <g id=\"patch_9\">\n    <path clip-path=\"url(#pcfa8b00470)\" d=\"M 392.755 460.2375 \nL 437.395 460.2375 \nL 437.395 400.576309 \nL 392.755 400.576309 \nz\n\" style=\"fill:#7fa946;\"/>\n   </g>\n   <g id=\"patch_10\">\n    <path clip-path=\"url(#pcfa8b00470)\" d=\"M 448.555 460.2375 \nL 493.195 460.2375 \nL 493.195 400.980342 \nL 448.555 400.980342 \nz\n\" style=\"fill:#48b052;\"/>\n   </g>\n   <g id=\"patch_11\">\n    <path clip-path=\"url(#pcfa8b00470)\" d=\"M 504.355 460.2375 \nL 548.995 460.2375 \nL 548.995 402.077697 \nL 504.355 402.077697 \nz\n\" style=\"fill:#49ae83;\"/>\n   </g>\n   <g id=\"patch_12\">\n    <path clip-path=\"url(#pcfa8b00470)\" d=\"M 560.155 460.2375 \nL 604.795 460.2375 \nL 604.795 402.964954 \nL 560.155 402.964954 \nz\n\" style=\"fill:#4aad96;\"/>\n   </g>\n   <g id=\"patch_13\">\n    <path clip-path=\"url(#pcfa8b00470)\" d=\"M 615.955 460.2375 \nL 660.595 460.2375 \nL 660.595 407.359222 \nL 615.955 407.359222 \nz\n\" style=\"fill:#4baba4;\"/>\n   </g>\n   <g id=\"patch_14\">\n    <path clip-path=\"url(#pcfa8b00470)\" d=\"M 671.755 460.2375 \nL 716.395 460.2375 \nL 716.395 408.034766 \nL 671.755 408.034766 \nz\n\" style=\"fill:#4dabb2;\"/>\n   </g>\n   <g id=\"patch_15\">\n    <path clip-path=\"url(#pcfa8b00470)\" d=\"M 727.555 460.2375 \nL 772.195 460.2375 \nL 772.195 412.349843 \nL 727.555 412.349843 \nz\n\" style=\"fill:#50acc3;\"/>\n   </g>\n   <g id=\"patch_16\">\n    <path clip-path=\"url(#pcfa8b00470)\" d=\"M 783.355 460.2375 \nL 827.995 460.2375 \nL 827.995 414.316677 \nL 783.355 414.316677 \nz\n\" style=\"fill:#56addb;\"/>\n   </g>\n   <g id=\"patch_17\">\n    <path clip-path=\"url(#pcfa8b00470)\" d=\"M 839.155 460.2375 \nL 883.795 460.2375 \nL 883.795 429.068746 \nL 839.155 429.068746 \nz\n\" style=\"fill:#94aee8;\"/>\n   </g>\n   <g id=\"patch_18\">\n    <path clip-path=\"url(#pcfa8b00470)\" d=\"M 894.955 460.2375 \nL 939.595 460.2375 \nL 939.595 431.483249 \nL 894.955 431.483249 \nz\n\" style=\"fill:#b6a8eb;\"/>\n   </g>\n   <g id=\"patch_19\">\n    <path clip-path=\"url(#pcfa8b00470)\" d=\"M 950.755 460.2375 \nL 995.395 460.2375 \nL 995.395 436.119937 \nL 950.755 436.119937 \nz\n\" style=\"fill:#ce9be9;\"/>\n   </g>\n   <g id=\"patch_20\">\n    <path clip-path=\"url(#pcfa8b00470)\" d=\"M 1006.555 460.2375 \nL 1051.195 460.2375 \nL 1051.195 437.664961 \nL 1006.555 437.664961 \nz\n\" style=\"fill:#e689e4;\"/>\n   </g>\n   <g id=\"patch_21\">\n    <path clip-path=\"url(#pcfa8b00470)\" d=\"M 1062.355 460.2375 \nL 1106.995 460.2375 \nL 1106.995 439.340891 \nL 1062.355 439.340891 \nz\n\" style=\"fill:#e88fcc;\"/>\n   </g>\n   <g id=\"patch_22\">\n    <path clip-path=\"url(#pcfa8b00470)\" d=\"M 1118.155 460.2375 \nL 1162.795 460.2375 \nL 1162.795 442.283871 \nL 1118.155 442.283871 \nz\n\" style=\"fill:#e993b9;\"/>\n   </g>\n   <g id=\"line2d_33\">\n    <path clip-path=\"url(#pcfa8b00470)\" style=\"fill:none;stroke:#424242;stroke-linecap:square;stroke-width:2.7;\"/>\n   </g>\n   <g id=\"line2d_34\">\n    <path clip-path=\"url(#pcfa8b00470)\" style=\"fill:none;stroke:#424242;stroke-linecap:square;stroke-width:2.7;\"/>\n   </g>\n   <g id=\"line2d_35\">\n    <path clip-path=\"url(#pcfa8b00470)\" style=\"fill:none;stroke:#424242;stroke-linecap:square;stroke-width:2.7;\"/>\n   </g>\n   <g id=\"line2d_36\">\n    <path clip-path=\"url(#pcfa8b00470)\" style=\"fill:none;stroke:#424242;stroke-linecap:square;stroke-width:2.7;\"/>\n   </g>\n   <g id=\"line2d_37\">\n    <path clip-path=\"url(#pcfa8b00470)\" style=\"fill:none;stroke:#424242;stroke-linecap:square;stroke-width:2.7;\"/>\n   </g>\n   <g id=\"line2d_38\">\n    <path clip-path=\"url(#pcfa8b00470)\" style=\"fill:none;stroke:#424242;stroke-linecap:square;stroke-width:2.7;\"/>\n   </g>\n   <g id=\"line2d_39\">\n    <path clip-path=\"url(#pcfa8b00470)\" style=\"fill:none;stroke:#424242;stroke-linecap:square;stroke-width:2.7;\"/>\n   </g>\n   <g id=\"line2d_40\">\n    <path clip-path=\"url(#pcfa8b00470)\" style=\"fill:none;stroke:#424242;stroke-linecap:square;stroke-width:2.7;\"/>\n   </g>\n   <g id=\"line2d_41\">\n    <path clip-path=\"url(#pcfa8b00470)\" style=\"fill:none;stroke:#424242;stroke-linecap:square;stroke-width:2.7;\"/>\n   </g>\n   <g id=\"line2d_42\">\n    <path clip-path=\"url(#pcfa8b00470)\" style=\"fill:none;stroke:#424242;stroke-linecap:square;stroke-width:2.7;\"/>\n   </g>\n   <g id=\"line2d_43\">\n    <path clip-path=\"url(#pcfa8b00470)\" style=\"fill:none;stroke:#424242;stroke-linecap:square;stroke-width:2.7;\"/>\n   </g>\n   <g id=\"line2d_44\">\n    <path clip-path=\"url(#pcfa8b00470)\" style=\"fill:none;stroke:#424242;stroke-linecap:square;stroke-width:2.7;\"/>\n   </g>\n   <g id=\"line2d_45\">\n    <path clip-path=\"url(#pcfa8b00470)\" style=\"fill:none;stroke:#424242;stroke-linecap:square;stroke-width:2.7;\"/>\n   </g>\n   <g id=\"line2d_46\">\n    <path clip-path=\"url(#pcfa8b00470)\" style=\"fill:none;stroke:#424242;stroke-linecap:square;stroke-width:2.7;\"/>\n   </g>\n   <g id=\"line2d_47\">\n    <path clip-path=\"url(#pcfa8b00470)\" style=\"fill:none;stroke:#424242;stroke-linecap:square;stroke-width:2.7;\"/>\n   </g>\n   <g id=\"line2d_48\">\n    <path clip-path=\"url(#pcfa8b00470)\" style=\"fill:none;stroke:#424242;stroke-linecap:square;stroke-width:2.7;\"/>\n   </g>\n   <g id=\"line2d_49\">\n    <path clip-path=\"url(#pcfa8b00470)\" style=\"fill:none;stroke:#424242;stroke-linecap:square;stroke-width:2.7;\"/>\n   </g>\n   <g id=\"line2d_50\">\n    <path clip-path=\"url(#pcfa8b00470)\" style=\"fill:none;stroke:#424242;stroke-linecap:square;stroke-width:2.7;\"/>\n   </g>\n   <g id=\"line2d_51\">\n    <path clip-path=\"url(#pcfa8b00470)\" style=\"fill:none;stroke:#424242;stroke-linecap:square;stroke-width:2.7;\"/>\n   </g>\n   <g id=\"line2d_52\">\n    <path clip-path=\"url(#pcfa8b00470)\" style=\"fill:none;stroke:#424242;stroke-linecap:square;stroke-width:2.7;\"/>\n   </g>\n   <g id=\"patch_23\">\n    <path d=\"M 52.375 460.2375 \nL 52.375 25.3575 \n\" style=\"fill:none;stroke:#ffffff;stroke-linecap:square;stroke-linejoin:miter;\"/>\n   </g>\n   <g id=\"patch_24\">\n    <path d=\"M 1168.375 460.2375 \nL 1168.375 25.3575 \n\" style=\"fill:none;stroke:#ffffff;stroke-linecap:square;stroke-linejoin:miter;\"/>\n   </g>\n   <g id=\"patch_25\">\n    <path d=\"M 52.375 460.2375 \nL 1168.375 460.2375 \n\" style=\"fill:none;stroke:#ffffff;stroke-linecap:square;stroke-linejoin:miter;\"/>\n   </g>\n   <g id=\"patch_26\">\n    <path d=\"M 52.375 25.3575 \nL 1168.375 25.3575 \n\" style=\"fill:none;stroke:#ffffff;stroke-linecap:square;stroke-linejoin:miter;\"/>\n   </g>\n   <g id=\"text_27\">\n    <!-- Class distibution -->\n    <defs>\n     <path d=\"M 64.40625 67.28125 \nL 64.40625 56.890625 \nQ 59.421875 61.53125 53.78125 63.8125 \nQ 48.140625 66.109375 41.796875 66.109375 \nQ 29.296875 66.109375 22.65625 58.46875 \nQ 16.015625 50.828125 16.015625 36.375 \nQ 16.015625 21.96875 22.65625 14.328125 \nQ 29.296875 6.6875 41.796875 6.6875 \nQ 48.140625 6.6875 53.78125 8.984375 \nQ 59.421875 11.28125 64.40625 15.921875 \nL 64.40625 5.609375 \nQ 59.234375 2.09375 53.4375 0.328125 \nQ 47.65625 -1.421875 41.21875 -1.421875 \nQ 24.65625 -1.421875 15.125 8.703125 \nQ 5.609375 18.84375 5.609375 36.375 \nQ 5.609375 53.953125 15.125 64.078125 \nQ 24.65625 74.21875 41.21875 74.21875 \nQ 47.75 74.21875 53.53125 72.484375 \nQ 59.328125 70.75 64.40625 67.28125 \nz\n\" id=\"DejaVuSans-67\"/>\n     <path id=\"DejaVuSans-32\"/>\n     <path d=\"M 45.40625 46.390625 \nL 45.40625 75.984375 \nL 54.390625 75.984375 \nL 54.390625 0 \nL 45.40625 0 \nL 45.40625 8.203125 \nQ 42.578125 3.328125 38.25 0.953125 \nQ 33.9375 -1.421875 27.875 -1.421875 \nQ 17.96875 -1.421875 11.734375 6.484375 \nQ 5.515625 14.40625 5.515625 27.296875 \nQ 5.515625 40.1875 11.734375 48.09375 \nQ 17.96875 56 27.875 56 \nQ 33.9375 56 38.25 53.625 \nQ 42.578125 51.265625 45.40625 46.390625 \nz\nM 14.796875 27.296875 \nQ 14.796875 17.390625 18.875 11.75 \nQ 22.953125 6.109375 30.078125 6.109375 \nQ 37.203125 6.109375 41.296875 11.75 \nQ 45.40625 17.390625 45.40625 27.296875 \nQ 45.40625 37.203125 41.296875 42.84375 \nQ 37.203125 48.484375 30.078125 48.484375 \nQ 22.953125 48.484375 18.875 42.84375 \nQ 14.796875 37.203125 14.796875 27.296875 \nz\n\" id=\"DejaVuSans-100\"/>\n     <path d=\"M 9.421875 54.6875 \nL 18.40625 54.6875 \nL 18.40625 0 \nL 9.421875 0 \nz\nM 9.421875 75.984375 \nL 18.40625 75.984375 \nL 18.40625 64.59375 \nL 9.421875 64.59375 \nz\n\" id=\"DejaVuSans-105\"/>\n     <path d=\"M 18.3125 70.21875 \nL 18.3125 54.6875 \nL 36.8125 54.6875 \nL 36.8125 47.703125 \nL 18.3125 47.703125 \nL 18.3125 18.015625 \nQ 18.3125 11.328125 20.140625 9.421875 \nQ 21.96875 7.515625 27.59375 7.515625 \nL 36.8125 7.515625 \nL 36.8125 0 \nL 27.59375 0 \nQ 17.1875 0 13.234375 3.875 \nQ 9.28125 7.765625 9.28125 18.015625 \nL 9.28125 47.703125 \nL 2.6875 47.703125 \nL 2.6875 54.6875 \nL 9.28125 54.6875 \nL 9.28125 70.21875 \nz\n\" id=\"DejaVuSans-116\"/>\n     <path d=\"M 48.6875 27.296875 \nQ 48.6875 37.203125 44.609375 42.84375 \nQ 40.53125 48.484375 33.40625 48.484375 \nQ 26.265625 48.484375 22.1875 42.84375 \nQ 18.109375 37.203125 18.109375 27.296875 \nQ 18.109375 17.390625 22.1875 11.75 \nQ 26.265625 6.109375 33.40625 6.109375 \nQ 40.53125 6.109375 44.609375 11.75 \nQ 48.6875 17.390625 48.6875 27.296875 \nz\nM 18.109375 46.390625 \nQ 20.953125 51.265625 25.265625 53.625 \nQ 29.59375 56 35.59375 56 \nQ 45.5625 56 51.78125 48.09375 \nQ 58.015625 40.1875 58.015625 27.296875 \nQ 58.015625 14.40625 51.78125 6.484375 \nQ 45.5625 -1.421875 35.59375 -1.421875 \nQ 29.59375 -1.421875 25.265625 0.953125 \nQ 20.953125 3.328125 18.109375 8.203125 \nL 18.109375 0 \nL 9.078125 0 \nL 9.078125 75.984375 \nL 18.109375 75.984375 \nz\n\" id=\"DejaVuSans-98\"/>\n     <path d=\"M 8.5 21.578125 \nL 8.5 54.6875 \nL 17.484375 54.6875 \nL 17.484375 21.921875 \nQ 17.484375 14.15625 20.5 10.265625 \nQ 23.53125 6.390625 29.59375 6.390625 \nQ 36.859375 6.390625 41.078125 11.03125 \nQ 45.3125 15.671875 45.3125 23.6875 \nL 45.3125 54.6875 \nL 54.296875 54.6875 \nL 54.296875 0 \nL 45.3125 0 \nL 45.3125 8.40625 \nQ 42.046875 3.421875 37.71875 1 \nQ 33.40625 -1.421875 27.6875 -1.421875 \nQ 18.265625 -1.421875 13.375 4.4375 \nQ 8.5 10.296875 8.5 21.578125 \nz\nM 31.109375 56 \nz\n\" id=\"DejaVuSans-117\"/>\n     <path d=\"M 30.609375 48.390625 \nQ 23.390625 48.390625 19.1875 42.75 \nQ 14.984375 37.109375 14.984375 27.296875 \nQ 14.984375 17.484375 19.15625 11.84375 \nQ 23.34375 6.203125 30.609375 6.203125 \nQ 37.796875 6.203125 41.984375 11.859375 \nQ 46.1875 17.53125 46.1875 27.296875 \nQ 46.1875 37.015625 41.984375 42.703125 \nQ 37.796875 48.390625 30.609375 48.390625 \nz\nM 30.609375 56 \nQ 42.328125 56 49.015625 48.375 \nQ 55.71875 40.765625 55.71875 27.296875 \nQ 55.71875 13.875 49.015625 6.21875 \nQ 42.328125 -1.421875 30.609375 -1.421875 \nQ 18.84375 -1.421875 12.171875 6.21875 \nQ 5.515625 13.875 5.515625 27.296875 \nQ 5.515625 40.765625 12.171875 48.375 \nQ 18.84375 56 30.609375 56 \nz\n\" id=\"DejaVuSans-111\"/>\n     <path d=\"M 54.890625 33.015625 \nL 54.890625 0 \nL 45.90625 0 \nL 45.90625 32.71875 \nQ 45.90625 40.484375 42.875 44.328125 \nQ 39.84375 48.1875 33.796875 48.1875 \nQ 26.515625 48.1875 22.3125 43.546875 \nQ 18.109375 38.921875 18.109375 30.90625 \nL 18.109375 0 \nL 9.078125 0 \nL 9.078125 54.6875 \nL 18.109375 54.6875 \nL 18.109375 46.1875 \nQ 21.34375 51.125 25.703125 53.5625 \nQ 30.078125 56 35.796875 56 \nQ 45.21875 56 50.046875 50.171875 \nQ 54.890625 44.34375 54.890625 33.015625 \nz\n\" id=\"DejaVuSans-110\"/>\n    </defs>\n    <g transform=\"translate(544.48625 19.3575)scale(0.16 -0.16)\">\n     <use xlink:href=\"#DejaVuSans-67\"/>\n     <use x=\"69.824219\" xlink:href=\"#DejaVuSans-108\"/>\n     <use x=\"97.607422\" xlink:href=\"#DejaVuSans-97\"/>\n     <use x=\"158.886719\" xlink:href=\"#DejaVuSans-115\"/>\n     <use x=\"210.986328\" xlink:href=\"#DejaVuSans-115\"/>\n     <use x=\"263.085938\" xlink:href=\"#DejaVuSans-32\"/>\n     <use x=\"294.873047\" xlink:href=\"#DejaVuSans-100\"/>\n     <use x=\"358.349609\" xlink:href=\"#DejaVuSans-105\"/>\n     <use x=\"386.132812\" xlink:href=\"#DejaVuSans-115\"/>\n     <use x=\"438.232422\" xlink:href=\"#DejaVuSans-116\"/>\n     <use x=\"477.441406\" xlink:href=\"#DejaVuSans-105\"/>\n     <use x=\"505.224609\" xlink:href=\"#DejaVuSans-98\"/>\n     <use x=\"568.701172\" xlink:href=\"#DejaVuSans-117\"/>\n     <use x=\"632.080078\" xlink:href=\"#DejaVuSans-116\"/>\n     <use x=\"671.289062\" xlink:href=\"#DejaVuSans-105\"/>\n     <use x=\"699.072266\" xlink:href=\"#DejaVuSans-111\"/>\n     <use x=\"760.253906\" xlink:href=\"#DejaVuSans-110\"/>\n    </g>\n   </g>\n  </g>\n </g>\n <defs>\n  <clipPath id=\"pcfa8b00470\">\n   <rect height=\"434.88\" width=\"1116\" x=\"52.375\" y=\"25.3575\"/>\n  </clipPath>\n </defs>\n</svg>\n",
      "image/png": "[encoded data removed]"
     },
     "metadata": {}
    }
   ],
   "source": [
    "plt.figure(figsize=(20, 8))\n",
    "sns.barplot(x=list(class_distrib.keys()), y=list(class_distrib.values()))\n",
    "plt.title('Class distibution', size=16)\n",
    "plt.show()"
   ]
  },
  {
   "cell_type": "code",
   "execution_count": 15,
   "metadata": {},
   "outputs": [
    {
     "output_type": "stream",
     "name": "stdout",
     "text": [
      "> Less represented class has : 11109 items (1.29% of training data)\n> Most represented class has : 256273 items (29.84% of training data)\n"
     ]
    }
   ],
   "source": [
    "less_rep_cls, most_rep_cls = min(class_distrib.values()), max(class_distrib.values())\n",
    "\n",
    "print(f\"> Less represented class has : {less_rep_cls} items ({(less_rep_cls / len(train)*100):.2f}% of training data)\")\n",
    "print(f\"> Most represented class has : {most_rep_cls} items ({(most_rep_cls / len(train)*100):.2f}% of training data)\")"
   ]
  },
  {
   "cell_type": "code",
   "execution_count": 16,
   "metadata": {},
   "outputs": [],
   "source": [
    "def get_used_letters(df:pd.DataFrame):\n",
    "    all_seqs_list = df.SEQUENCE.values.tolist()\n",
    "    v = \"\"\n",
    "    v += \"\".join(seq for seq in all_seqs_list)\n",
    "\n",
    "    return sorted(list(set(v)))\n",
    "\n"
   ]
  },
  {
   "source": [
    "# Datasets & Dataloaders"
   ],
   "cell_type": "markdown",
   "metadata": {}
  },
  {
   "cell_type": "code",
   "execution_count": 17,
   "metadata": {},
   "outputs": [],
   "source": [
    "BATCH_SIZE = 32\n",
    "MAX_SEQ_LEN = 600\n",
    "ds = datasets.EnzymeDataset(df=train, task='train')\n",
    "dl = DataLoader(dataset=ds, \n",
    "                batch_size=BATCH_SIZE,\n",
    "                num_workers=os.cpu_count())"
   ]
  },
  {
   "cell_type": "code",
   "execution_count": 18,
   "metadata": {},
   "outputs": [
    {
     "output_type": "stream",
     "name": "stdout",
     "text": [
      "torch.Size([32, 1, 512])\ntorch.Size([32])\n"
     ]
    }
   ],
   "source": [
    "for data in dl:\n",
    "    xs, ys = data['sequence'], data['target']\n",
    "    print(xs.shape)\n",
    "    print(ys.shape)\n",
    "    break"
   ]
  },
  {
   "source": [
    "## Modeling "
   ],
   "cell_type": "markdown",
   "metadata": {}
  },
  {
   "cell_type": "code",
   "execution_count": null,
   "metadata": {},
   "outputs": [],
   "source": []
  },
  {
   "cell_type": "code",
   "execution_count": null,
   "metadata": {},
   "outputs": [],
   "source": []
  },
  {
   "cell_type": "code",
   "execution_count": null,
   "metadata": {},
   "outputs": [],
   "source": []
  },
  {
   "cell_type": "code",
   "execution_count": null,
   "metadata": {},
   "outputs": [],
   "source": []
  },
  {
   "cell_type": "code",
   "execution_count": null,
   "metadata": {},
   "outputs": [],
   "source": []
  },
  {
   "cell_type": "code",
   "execution_count": null,
   "metadata": {},
   "outputs": [],
   "source": []
  },
  {
   "cell_type": "code",
   "execution_count": null,
   "metadata": {},
   "outputs": [],
   "source": []
  },
  {
   "cell_type": "code",
   "execution_count": null,
   "metadata": {},
   "outputs": [],
   "source": []
  },
  {
   "source": [
    "## Evaluation & Results"
   ],
   "cell_type": "markdown",
   "metadata": {}
  },
  {
   "cell_type": "code",
   "execution_count": null,
   "metadata": {},
   "outputs": [],
   "source": []
  },
  {
   "cell_type": "code",
   "execution_count": null,
   "metadata": {},
   "outputs": [],
   "source": []
  },
  {
   "cell_type": "code",
   "execution_count": null,
   "metadata": {},
   "outputs": [],
   "source": []
  },
  {
   "cell_type": "code",
   "execution_count": 21,
   "metadata": {},
   "outputs": [],
   "source": [
    "## Inference"
   ]
  },
  {
   "cell_type": "code",
   "execution_count": null,
   "metadata": {},
   "outputs": [],
   "source": []
  },
  {
   "cell_type": "code",
   "execution_count": null,
   "metadata": {},
   "outputs": [],
   "source": []
  },
  {
   "cell_type": "code",
   "execution_count": null,
   "metadata": {},
   "outputs": [],
   "source": []
  }
 ]
}